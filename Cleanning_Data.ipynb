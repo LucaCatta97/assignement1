{
 "cells": [
  {
   "cell_type": "markdown",
   "source": [
    "## Cleaning Data\n",
    "\n",
    "In this notebook we start the analizing the two dataset and correct errors\n"
   ],
   "metadata": {
    "collapsed": false
   }
  },
  {
   "cell_type": "code",
   "execution_count": 1,
   "outputs": [],
   "source": [
    "import numpy as np\n",
    "import pandas as pd\n",
    "from pathlib import Path"
   ],
   "metadata": {
    "collapsed": false,
    "pycharm": {
     "name": "#%%\n"
    }
   }
  },
  {
   "cell_type": "markdown",
   "source": [
    "## Taxi Dataset\n",
    "\n",
    "We start from the taxi dataset"
   ],
   "metadata": {
    "collapsed": false
   }
  },
  {
   "cell_type": "code",
   "execution_count": 2,
   "outputs": [],
   "source": [
    "df = pd.read_csv(Path(\"data/Chicago_Taxi_Trips_2020_10percent.csv\")) # this open the csv dataset considering the path\n",
    "#print(df.head()) #first 5 lines\n",
    "\n",
    "df.columns = [c.replace(' ', '_') for c in df.columns]  #replaces spaces in columns with underscores"
   ],
   "metadata": {
    "collapsed": false,
    "pycharm": {
     "name": "#%%\n"
    }
   }
  },
  {
   "cell_type": "code",
   "execution_count": 3,
   "outputs": [
    {
     "data": {
      "text/plain": "                                    Trip_ID  \\\n0  7fa9327d2a62e0f1f9eac0f5a4ca0bb5338c22b2   \n1  493354c5b05333aeeb05055a4914c5d38bacef60   \n2  450f3aa6b31aa37cbb7c972f92a9ba31ab506c79   \n3  39100cdb94f6da6b54f71f1d1cdc2ba330f97e09   \n4  36bbb8cf2622b3ce7dde8f6bbaacc903a8403333   \n\n                                             Taxi_ID    Trip_Start_Timestamp  \\\n0  03906d62f91d139ab93f74f50d1b208805b7fbb61e8d1e...  01/01/2020 12:00:00 AM   \n1  ca885a78545e9a44a5f365164cfbaca32fee95082b0d4f...  01/01/2020 12:00:00 AM   \n2  81bc2020b8536280419b3e152ad07a0c5b9f53cbb503a0...  01/01/2020 12:00:00 AM   \n3  a548c63608ec50e02a2311a0b6b1b2274995e3637ccb4c...  01/01/2020 12:00:00 AM   \n4  33164e16dd29b1c58cd15cce31df4bfcb75d9903cb66de...  01/01/2020 12:00:00 AM   \n\n       Trip_End_Timestamp  Trip_Seconds  Trip_Miles  Pickup_Census_Tract  \\\n0  01/01/2020 12:00:00 AM         178.0        0.48         1.703132e+10   \n1  01/01/2020 12:30:00 AM        1200.0        5.30                  NaN   \n2  01/01/2020 12:15:00 AM         540.0        1.70         1.703108e+10   \n3  01/01/2020 12:15:00 AM         419.0        0.98         1.703128e+10   \n4  01/01/2020 12:30:00 AM        1800.0        1.50         1.703128e+10   \n\n   Dropoff_Census_Tract  Pickup_Community_Area  Dropoff_Community_Area  ...  \\\n0          1.703132e+10                   32.0                    32.0  ...   \n1                   NaN                    8.0                    23.0  ...   \n2          1.703108e+10                    8.0                     8.0  ...   \n3          1.703184e+10                   28.0                    32.0  ...   \n4          1.703132e+10                   28.0                    32.0  ...   \n\n   Extras  Trip_Total  Payment_Type                    Company  \\\n0     3.0       10.00   Credit Card                  Flash Cab   \n1     0.0       20.10   Credit Card  Star North Management LLC   \n2     0.0        8.00          Cash  Taxi Affiliation Services   \n3     1.0        7.50          Cash               City Service   \n4     1.0       15.25          Cash           Medallion Leasin   \n\n   Pickup_Centroid_Latitude Pickup_Centroid_Longitude  \\\n0                 41.877406                -87.621972   \n1                 41.899602                -87.633308   \n2                 41.907492                -87.635760   \n3                 41.885300                -87.642808   \n4                 41.885300                -87.642808   \n\n               Pickup_Centroid_Location  Dropoff_Centroid_Latitude  \\\n0  POINT (-87.6219716519 41.8774061234)                  41.884987   \n1   POINT (-87.6333080367 41.899602111)                  41.900070   \n2  POINT (-87.6357600901 41.9074919303)                  41.892073   \n3  POINT (-87.6428084655 41.8853000224)                  41.880994   \n4  POINT (-87.6428084655 41.8853000224)                  41.884987   \n\n   Dropoff_Centroid_Longitude            Dropoff_Centroid__Location  \n0                  -87.620993  POINT (-87.6209929134 41.8849871918)  \n1                  -87.720918  POINT (-87.7209182385 41.9000696026)  \n2                  -87.628874  POINT (-87.6288741572 41.8920726347)  \n3                  -87.632746  POINT (-87.6327464887 41.8809944707)  \n4                  -87.620993  POINT (-87.6209929134 41.8849871918)  \n\n[5 rows x 23 columns]",
      "text/html": "<div>\n<style scoped>\n    .dataframe tbody tr th:only-of-type {\n        vertical-align: middle;\n    }\n\n    .dataframe tbody tr th {\n        vertical-align: top;\n    }\n\n    .dataframe thead th {\n        text-align: right;\n    }\n</style>\n<table border=\"1\" class=\"dataframe\">\n  <thead>\n    <tr style=\"text-align: right;\">\n      <th></th>\n      <th>Trip_ID</th>\n      <th>Taxi_ID</th>\n      <th>Trip_Start_Timestamp</th>\n      <th>Trip_End_Timestamp</th>\n      <th>Trip_Seconds</th>\n      <th>Trip_Miles</th>\n      <th>Pickup_Census_Tract</th>\n      <th>Dropoff_Census_Tract</th>\n      <th>Pickup_Community_Area</th>\n      <th>Dropoff_Community_Area</th>\n      <th>...</th>\n      <th>Extras</th>\n      <th>Trip_Total</th>\n      <th>Payment_Type</th>\n      <th>Company</th>\n      <th>Pickup_Centroid_Latitude</th>\n      <th>Pickup_Centroid_Longitude</th>\n      <th>Pickup_Centroid_Location</th>\n      <th>Dropoff_Centroid_Latitude</th>\n      <th>Dropoff_Centroid_Longitude</th>\n      <th>Dropoff_Centroid__Location</th>\n    </tr>\n  </thead>\n  <tbody>\n    <tr>\n      <th>0</th>\n      <td>7fa9327d2a62e0f1f9eac0f5a4ca0bb5338c22b2</td>\n      <td>03906d62f91d139ab93f74f50d1b208805b7fbb61e8d1e...</td>\n      <td>01/01/2020 12:00:00 AM</td>\n      <td>01/01/2020 12:00:00 AM</td>\n      <td>178.0</td>\n      <td>0.48</td>\n      <td>1.703132e+10</td>\n      <td>1.703132e+10</td>\n      <td>32.0</td>\n      <td>32.0</td>\n      <td>...</td>\n      <td>3.0</td>\n      <td>10.00</td>\n      <td>Credit Card</td>\n      <td>Flash Cab</td>\n      <td>41.877406</td>\n      <td>-87.621972</td>\n      <td>POINT (-87.6219716519 41.8774061234)</td>\n      <td>41.884987</td>\n      <td>-87.620993</td>\n      <td>POINT (-87.6209929134 41.8849871918)</td>\n    </tr>\n    <tr>\n      <th>1</th>\n      <td>493354c5b05333aeeb05055a4914c5d38bacef60</td>\n      <td>ca885a78545e9a44a5f365164cfbaca32fee95082b0d4f...</td>\n      <td>01/01/2020 12:00:00 AM</td>\n      <td>01/01/2020 12:30:00 AM</td>\n      <td>1200.0</td>\n      <td>5.30</td>\n      <td>NaN</td>\n      <td>NaN</td>\n      <td>8.0</td>\n      <td>23.0</td>\n      <td>...</td>\n      <td>0.0</td>\n      <td>20.10</td>\n      <td>Credit Card</td>\n      <td>Star North Management LLC</td>\n      <td>41.899602</td>\n      <td>-87.633308</td>\n      <td>POINT (-87.6333080367 41.899602111)</td>\n      <td>41.900070</td>\n      <td>-87.720918</td>\n      <td>POINT (-87.7209182385 41.9000696026)</td>\n    </tr>\n    <tr>\n      <th>2</th>\n      <td>450f3aa6b31aa37cbb7c972f92a9ba31ab506c79</td>\n      <td>81bc2020b8536280419b3e152ad07a0c5b9f53cbb503a0...</td>\n      <td>01/01/2020 12:00:00 AM</td>\n      <td>01/01/2020 12:15:00 AM</td>\n      <td>540.0</td>\n      <td>1.70</td>\n      <td>1.703108e+10</td>\n      <td>1.703108e+10</td>\n      <td>8.0</td>\n      <td>8.0</td>\n      <td>...</td>\n      <td>0.0</td>\n      <td>8.00</td>\n      <td>Cash</td>\n      <td>Taxi Affiliation Services</td>\n      <td>41.907492</td>\n      <td>-87.635760</td>\n      <td>POINT (-87.6357600901 41.9074919303)</td>\n      <td>41.892073</td>\n      <td>-87.628874</td>\n      <td>POINT (-87.6288741572 41.8920726347)</td>\n    </tr>\n    <tr>\n      <th>3</th>\n      <td>39100cdb94f6da6b54f71f1d1cdc2ba330f97e09</td>\n      <td>a548c63608ec50e02a2311a0b6b1b2274995e3637ccb4c...</td>\n      <td>01/01/2020 12:00:00 AM</td>\n      <td>01/01/2020 12:15:00 AM</td>\n      <td>419.0</td>\n      <td>0.98</td>\n      <td>1.703128e+10</td>\n      <td>1.703184e+10</td>\n      <td>28.0</td>\n      <td>32.0</td>\n      <td>...</td>\n      <td>1.0</td>\n      <td>7.50</td>\n      <td>Cash</td>\n      <td>City Service</td>\n      <td>41.885300</td>\n      <td>-87.642808</td>\n      <td>POINT (-87.6428084655 41.8853000224)</td>\n      <td>41.880994</td>\n      <td>-87.632746</td>\n      <td>POINT (-87.6327464887 41.8809944707)</td>\n    </tr>\n    <tr>\n      <th>4</th>\n      <td>36bbb8cf2622b3ce7dde8f6bbaacc903a8403333</td>\n      <td>33164e16dd29b1c58cd15cce31df4bfcb75d9903cb66de...</td>\n      <td>01/01/2020 12:00:00 AM</td>\n      <td>01/01/2020 12:30:00 AM</td>\n      <td>1800.0</td>\n      <td>1.50</td>\n      <td>1.703128e+10</td>\n      <td>1.703132e+10</td>\n      <td>28.0</td>\n      <td>32.0</td>\n      <td>...</td>\n      <td>1.0</td>\n      <td>15.25</td>\n      <td>Cash</td>\n      <td>Medallion Leasin</td>\n      <td>41.885300</td>\n      <td>-87.642808</td>\n      <td>POINT (-87.6428084655 41.8853000224)</td>\n      <td>41.884987</td>\n      <td>-87.620993</td>\n      <td>POINT (-87.6209929134 41.8849871918)</td>\n    </tr>\n  </tbody>\n</table>\n<p>5 rows × 23 columns</p>\n</div>"
     },
     "execution_count": 3,
     "metadata": {},
     "output_type": "execute_result"
    }
   ],
   "source": [
    "df.head()"
   ],
   "metadata": {
    "collapsed": false,
    "pycharm": {
     "name": "#%%\n"
    }
   }
  },
  {
   "cell_type": "code",
   "execution_count": 4,
   "outputs": [
    {
     "data": {
      "text/plain": "(342292, 23)"
     },
     "execution_count": 4,
     "metadata": {},
     "output_type": "execute_result"
    }
   ],
   "source": [
    "df.shape"
   ],
   "metadata": {
    "collapsed": false,
    "pycharm": {
     "name": "#%%\n"
    }
   }
  },
  {
   "cell_type": "markdown",
   "source": [
    "### Data preparation - Time"
   ],
   "metadata": {
    "collapsed": false
   }
  },
  {
   "cell_type": "code",
   "execution_count": 5,
   "outputs": [],
   "source": [
    "#This code recognises AM/PM difference\n",
    "df.Trip_Start_Timestamp = pd.to_datetime(df.Trip_Start_Timestamp, format='%m/%d/%Y %I:%M:%S %p')\n",
    "df.Trip_End_Timestamp = pd.to_datetime(df.Trip_End_Timestamp, format='%m/%d/%Y %I:%M:%S %p')\n",
    "#This line excludes trips that End before Starting (90 trips)\n",
    "df = df[df.Trip_End_Timestamp >= df.Trip_Start_Timestamp]"
   ],
   "metadata": {
    "collapsed": false,
    "pycharm": {
     "name": "#%%\n"
    }
   }
  },
  {
   "cell_type": "code",
   "execution_count": 6,
   "outputs": [],
   "source": [
    "#TODO ci sarebbe da controllare se la durata in secondi sia la stessa della differenza fra partenza e arrivo\n",
    "#df=df[(df.Trip_End_Timestamp-df.Trip_Start_Timestamp)==pd.to_timedelta(df.Trip_Seconds * 10 ** 9)]"
   ],
   "metadata": {
    "collapsed": false,
    "pycharm": {
     "name": "#%%\n"
    }
   }
  },
  {
   "cell_type": "code",
   "execution_count": 7,
   "outputs": [
    {
     "data": {
      "text/plain": "(342202, 23)"
     },
     "execution_count": 7,
     "metadata": {},
     "output_type": "execute_result"
    }
   ],
   "source": [
    "df.shape"
   ],
   "metadata": {
    "collapsed": false,
    "pycharm": {
     "name": "#%%\n"
    }
   }
  },
  {
   "cell_type": "code",
   "execution_count": 8,
   "outputs": [
    {
     "name": "stdout",
     "output_type": "stream",
     "text": [
      "<class 'pandas.core.frame.DataFrame'>\n",
      "Int64Index: 342202 entries, 0 to 342291\n",
      "Data columns (total 23 columns):\n",
      " #   Column                      Non-Null Count   Dtype         \n",
      "---  ------                      --------------   -----         \n",
      " 0   Trip_ID                     342202 non-null  object        \n",
      " 1   Taxi_ID                     342184 non-null  object        \n",
      " 2   Trip_Start_Timestamp        342202 non-null  datetime64[ns]\n",
      " 3   Trip_End_Timestamp          342202 non-null  datetime64[ns]\n",
      " 4   Trip_Seconds                342158 non-null  float64       \n",
      " 5   Trip_Miles                  342201 non-null  float64       \n",
      " 6   Pickup_Census_Tract         174058 non-null  float64       \n",
      " 7   Dropoff_Census_Tract        172967 non-null  float64       \n",
      " 8   Pickup_Community_Area       318231 non-null  float64       \n",
      " 9   Dropoff_Community_Area      310704 non-null  float64       \n",
      " 10  Fare                        342168 non-null  float64       \n",
      " 11  Tips                        342168 non-null  float64       \n",
      " 12  Tolls                       342168 non-null  float64       \n",
      " 13  Extras                      342168 non-null  float64       \n",
      " 14  Trip_Total                  342168 non-null  float64       \n",
      " 15  Payment_Type                342202 non-null  object        \n",
      " 16  Company                     342202 non-null  object        \n",
      " 17  Pickup_Centroid_Latitude    318283 non-null  float64       \n",
      " 18  Pickup_Centroid_Longitude   318283 non-null  float64       \n",
      " 19  Pickup_Centroid_Location    318283 non-null  object        \n",
      " 20  Dropoff_Centroid_Latitude   311347 non-null  float64       \n",
      " 21  Dropoff_Centroid_Longitude  311347 non-null  float64       \n",
      " 22  Dropoff_Centroid__Location  311347 non-null  object        \n",
      "dtypes: datetime64[ns](2), float64(15), object(6)\n",
      "memory usage: 62.7+ MB\n"
     ]
    }
   ],
   "source": [
    "df.info()"
   ],
   "metadata": {
    "collapsed": false,
    "pycharm": {
     "name": "#%%\n"
    }
   }
  },
  {
   "cell_type": "code",
   "execution_count": 9,
   "outputs": [
    {
     "data": {
      "text/plain": "                                    Trip_ID  \\\n0  7fa9327d2a62e0f1f9eac0f5a4ca0bb5338c22b2   \n1  493354c5b05333aeeb05055a4914c5d38bacef60   \n2  450f3aa6b31aa37cbb7c972f92a9ba31ab506c79   \n3  39100cdb94f6da6b54f71f1d1cdc2ba330f97e09   \n4  36bbb8cf2622b3ce7dde8f6bbaacc903a8403333   \n\n                                             Taxi_ID Trip_Start_Timestamp  \\\n0  03906d62f91d139ab93f74f50d1b208805b7fbb61e8d1e...           2020-01-01   \n1  ca885a78545e9a44a5f365164cfbaca32fee95082b0d4f...           2020-01-01   \n2  81bc2020b8536280419b3e152ad07a0c5b9f53cbb503a0...           2020-01-01   \n3  a548c63608ec50e02a2311a0b6b1b2274995e3637ccb4c...           2020-01-01   \n4  33164e16dd29b1c58cd15cce31df4bfcb75d9903cb66de...           2020-01-01   \n\n   Trip_End_Timestamp  Trip_Seconds  Trip_Miles  Pickup_Census_Tract  \\\n0 2020-01-01 00:00:00         178.0        0.48         1.703132e+10   \n1 2020-01-01 00:30:00        1200.0        5.30                  NaN   \n2 2020-01-01 00:15:00         540.0        1.70         1.703108e+10   \n3 2020-01-01 00:15:00         419.0        0.98         1.703128e+10   \n4 2020-01-01 00:30:00        1800.0        1.50         1.703128e+10   \n\n   Dropoff_Census_Tract  Pickup_Community_Area  Dropoff_Community_Area  ...  \\\n0          1.703132e+10                   32.0                    32.0  ...   \n1                   NaN                    8.0                    23.0  ...   \n2          1.703108e+10                    8.0                     8.0  ...   \n3          1.703184e+10                   28.0                    32.0  ...   \n4          1.703132e+10                   28.0                    32.0  ...   \n\n   Extras  Trip_Total  Payment_Type                    Company  \\\n0     3.0       10.00   Credit Card                  Flash Cab   \n1     0.0       20.10   Credit Card  Star North Management LLC   \n2     0.0        8.00          Cash  Taxi Affiliation Services   \n3     1.0        7.50          Cash               City Service   \n4     1.0       15.25          Cash           Medallion Leasin   \n\n   Pickup_Centroid_Latitude Pickup_Centroid_Longitude  \\\n0                 41.877406                -87.621972   \n1                 41.899602                -87.633308   \n2                 41.907492                -87.635760   \n3                 41.885300                -87.642808   \n4                 41.885300                -87.642808   \n\n               Pickup_Centroid_Location  Dropoff_Centroid_Latitude  \\\n0  POINT (-87.6219716519 41.8774061234)                  41.884987   \n1   POINT (-87.6333080367 41.899602111)                  41.900070   \n2  POINT (-87.6357600901 41.9074919303)                  41.892073   \n3  POINT (-87.6428084655 41.8853000224)                  41.880994   \n4  POINT (-87.6428084655 41.8853000224)                  41.884987   \n\n   Dropoff_Centroid_Longitude            Dropoff_Centroid__Location  \n0                  -87.620993  POINT (-87.6209929134 41.8849871918)  \n1                  -87.720918  POINT (-87.7209182385 41.9000696026)  \n2                  -87.628874  POINT (-87.6288741572 41.8920726347)  \n3                  -87.632746  POINT (-87.6327464887 41.8809944707)  \n4                  -87.620993  POINT (-87.6209929134 41.8849871918)  \n\n[5 rows x 23 columns]",
      "text/html": "<div>\n<style scoped>\n    .dataframe tbody tr th:only-of-type {\n        vertical-align: middle;\n    }\n\n    .dataframe tbody tr th {\n        vertical-align: top;\n    }\n\n    .dataframe thead th {\n        text-align: right;\n    }\n</style>\n<table border=\"1\" class=\"dataframe\">\n  <thead>\n    <tr style=\"text-align: right;\">\n      <th></th>\n      <th>Trip_ID</th>\n      <th>Taxi_ID</th>\n      <th>Trip_Start_Timestamp</th>\n      <th>Trip_End_Timestamp</th>\n      <th>Trip_Seconds</th>\n      <th>Trip_Miles</th>\n      <th>Pickup_Census_Tract</th>\n      <th>Dropoff_Census_Tract</th>\n      <th>Pickup_Community_Area</th>\n      <th>Dropoff_Community_Area</th>\n      <th>...</th>\n      <th>Extras</th>\n      <th>Trip_Total</th>\n      <th>Payment_Type</th>\n      <th>Company</th>\n      <th>Pickup_Centroid_Latitude</th>\n      <th>Pickup_Centroid_Longitude</th>\n      <th>Pickup_Centroid_Location</th>\n      <th>Dropoff_Centroid_Latitude</th>\n      <th>Dropoff_Centroid_Longitude</th>\n      <th>Dropoff_Centroid__Location</th>\n    </tr>\n  </thead>\n  <tbody>\n    <tr>\n      <th>0</th>\n      <td>7fa9327d2a62e0f1f9eac0f5a4ca0bb5338c22b2</td>\n      <td>03906d62f91d139ab93f74f50d1b208805b7fbb61e8d1e...</td>\n      <td>2020-01-01</td>\n      <td>2020-01-01 00:00:00</td>\n      <td>178.0</td>\n      <td>0.48</td>\n      <td>1.703132e+10</td>\n      <td>1.703132e+10</td>\n      <td>32.0</td>\n      <td>32.0</td>\n      <td>...</td>\n      <td>3.0</td>\n      <td>10.00</td>\n      <td>Credit Card</td>\n      <td>Flash Cab</td>\n      <td>41.877406</td>\n      <td>-87.621972</td>\n      <td>POINT (-87.6219716519 41.8774061234)</td>\n      <td>41.884987</td>\n      <td>-87.620993</td>\n      <td>POINT (-87.6209929134 41.8849871918)</td>\n    </tr>\n    <tr>\n      <th>1</th>\n      <td>493354c5b05333aeeb05055a4914c5d38bacef60</td>\n      <td>ca885a78545e9a44a5f365164cfbaca32fee95082b0d4f...</td>\n      <td>2020-01-01</td>\n      <td>2020-01-01 00:30:00</td>\n      <td>1200.0</td>\n      <td>5.30</td>\n      <td>NaN</td>\n      <td>NaN</td>\n      <td>8.0</td>\n      <td>23.0</td>\n      <td>...</td>\n      <td>0.0</td>\n      <td>20.10</td>\n      <td>Credit Card</td>\n      <td>Star North Management LLC</td>\n      <td>41.899602</td>\n      <td>-87.633308</td>\n      <td>POINT (-87.6333080367 41.899602111)</td>\n      <td>41.900070</td>\n      <td>-87.720918</td>\n      <td>POINT (-87.7209182385 41.9000696026)</td>\n    </tr>\n    <tr>\n      <th>2</th>\n      <td>450f3aa6b31aa37cbb7c972f92a9ba31ab506c79</td>\n      <td>81bc2020b8536280419b3e152ad07a0c5b9f53cbb503a0...</td>\n      <td>2020-01-01</td>\n      <td>2020-01-01 00:15:00</td>\n      <td>540.0</td>\n      <td>1.70</td>\n      <td>1.703108e+10</td>\n      <td>1.703108e+10</td>\n      <td>8.0</td>\n      <td>8.0</td>\n      <td>...</td>\n      <td>0.0</td>\n      <td>8.00</td>\n      <td>Cash</td>\n      <td>Taxi Affiliation Services</td>\n      <td>41.907492</td>\n      <td>-87.635760</td>\n      <td>POINT (-87.6357600901 41.9074919303)</td>\n      <td>41.892073</td>\n      <td>-87.628874</td>\n      <td>POINT (-87.6288741572 41.8920726347)</td>\n    </tr>\n    <tr>\n      <th>3</th>\n      <td>39100cdb94f6da6b54f71f1d1cdc2ba330f97e09</td>\n      <td>a548c63608ec50e02a2311a0b6b1b2274995e3637ccb4c...</td>\n      <td>2020-01-01</td>\n      <td>2020-01-01 00:15:00</td>\n      <td>419.0</td>\n      <td>0.98</td>\n      <td>1.703128e+10</td>\n      <td>1.703184e+10</td>\n      <td>28.0</td>\n      <td>32.0</td>\n      <td>...</td>\n      <td>1.0</td>\n      <td>7.50</td>\n      <td>Cash</td>\n      <td>City Service</td>\n      <td>41.885300</td>\n      <td>-87.642808</td>\n      <td>POINT (-87.6428084655 41.8853000224)</td>\n      <td>41.880994</td>\n      <td>-87.632746</td>\n      <td>POINT (-87.6327464887 41.8809944707)</td>\n    </tr>\n    <tr>\n      <th>4</th>\n      <td>36bbb8cf2622b3ce7dde8f6bbaacc903a8403333</td>\n      <td>33164e16dd29b1c58cd15cce31df4bfcb75d9903cb66de...</td>\n      <td>2020-01-01</td>\n      <td>2020-01-01 00:30:00</td>\n      <td>1800.0</td>\n      <td>1.50</td>\n      <td>1.703128e+10</td>\n      <td>1.703132e+10</td>\n      <td>28.0</td>\n      <td>32.0</td>\n      <td>...</td>\n      <td>1.0</td>\n      <td>15.25</td>\n      <td>Cash</td>\n      <td>Medallion Leasin</td>\n      <td>41.885300</td>\n      <td>-87.642808</td>\n      <td>POINT (-87.6428084655 41.8853000224)</td>\n      <td>41.884987</td>\n      <td>-87.620993</td>\n      <td>POINT (-87.6209929134 41.8849871918)</td>\n    </tr>\n  </tbody>\n</table>\n<p>5 rows × 23 columns</p>\n</div>"
     },
     "execution_count": 9,
     "metadata": {},
     "output_type": "execute_result"
    }
   ],
   "source": [
    "df.head()"
   ],
   "metadata": {
    "collapsed": false,
    "pycharm": {
     "name": "#%%\n"
    }
   }
  },
  {
   "cell_type": "markdown",
   "source": [
    "### Data preparation - MV\n",
    "\n"
   ],
   "metadata": {
    "collapsed": false
   }
  },
  {
   "cell_type": "markdown",
   "source": [
    "We count the number of missing values for each columns"
   ],
   "metadata": {
    "collapsed": false
   }
  },
  {
   "cell_type": "code",
   "execution_count": 10,
   "outputs": [
    {
     "data": {
      "text/plain": "Trip_ID                            0\nTaxi_ID                           18\nTrip_Start_Timestamp               0\nTrip_End_Timestamp                 0\nTrip_Seconds                      44\nTrip_Miles                         1\nPickup_Census_Tract           168144\nDropoff_Census_Tract          169235\nPickup_Community_Area          23971\nDropoff_Community_Area         31498\nFare                              34\nTips                              34\nTolls                             34\nExtras                            34\nTrip_Total                        34\nPayment_Type                       0\nCompany                            0\nPickup_Centroid_Latitude       23919\nPickup_Centroid_Longitude      23919\nPickup_Centroid_Location       23919\nDropoff_Centroid_Latitude      30855\nDropoff_Centroid_Longitude     30855\nDropoff_Centroid__Location     30855\ndtype: int64"
     },
     "execution_count": 10,
     "metadata": {},
     "output_type": "execute_result"
    }
   ],
   "source": [
    "df.isnull().sum()"
   ],
   "metadata": {
    "collapsed": false,
    "pycharm": {
     "name": "#%%\n"
    }
   }
  },
  {
   "cell_type": "markdown",
   "source": [
    "Using the description given from the City of Chicago we can assume that there are\n",
    "from 23930 to 30916 trips from (or to) locations outside Chicago.\n",
    "\n",
    "We firstly check if there are totally empty rows. We will remove them."
   ],
   "metadata": {
    "collapsed": false
   }
  },
  {
   "cell_type": "code",
   "execution_count": 11,
   "outputs": [
    {
     "data": {
      "text/plain": "(342202, 23)"
     },
     "execution_count": 11,
     "metadata": {},
     "output_type": "execute_result"
    }
   ],
   "source": [
    "df.dropna(how='all').shape"
   ],
   "metadata": {
    "collapsed": false,
    "pycharm": {
     "name": "#%%\n"
    }
   }
  },
  {
   "cell_type": "markdown",
   "source": [
    "Turns out that the all rows have at least one valid value"
   ],
   "metadata": {
    "collapsed": false
   }
  },
  {
   "cell_type": "markdown",
   "source": [
    "### Statistics"
   ],
   "metadata": {
    "collapsed": false
   }
  },
  {
   "cell_type": "code",
   "execution_count": 12,
   "outputs": [],
   "source": [
    "from scipy.stats import median_abs_deviation #as median_abs_deviation"
   ],
   "metadata": {
    "collapsed": false,
    "pycharm": {
     "name": "#%%\n"
    }
   }
  },
  {
   "cell_type": "markdown",
   "source": [
    "The following function will help us to compute some statics useful to analyze our data.\n",
    "???Or correct NaN value using the Winsorizing approach with a reasonable approach to the correct percentile."
   ],
   "metadata": {
    "collapsed": false
   }
  },
  {
   "cell_type": "code",
   "execution_count": 13,
   "outputs": [],
   "source": [
    "def statistics(variable):\n",
    "    stats = {}\n",
    "    stats['mean'] = variable.mean()\n",
    "    stats['std'] = variable.std()\n",
    "    stats['max'] = variable.max()\n",
    "    stats['min'] = variable.min()\n",
    "    stats['median'] = np.nanmedian(variable)  #NANmedian invece di median\n",
    "    stats['1%'] = np.nanpercentile(variable, 1)\n",
    "    stats['5%'] = np.nanpercentile(variable, 5)\n",
    "    stats['10%'] = np.nanpercentile(variable,10)  #NANpercentile invece di percentile\n",
    "    stats['17,5%'] = np.nanpercentile(variable,17.5)\n",
    "    stats['25%'] = np.nanpercentile(variable,25)  #NANpercentile invece di percentile\n",
    "    stats['75%'] = np.nanpercentile(variable,75)  #NANpercentile invece di percentile\n",
    "    stats['95%'] = np.nanpercentile(variable, 95)\n",
    "    stats['99%'] = np.nanpercentile(variable,99)  #NANpercentile invece di percentile\n",
    "    stats['99.5%'] = np.nanpercentile(variable,99.5)  #NANpercentile invece di percentile\n",
    "    stats['99.9%'] = np.nanpercentile(variable,99.9)  #NANpercentile invece di percentile\n",
    "    stats['mad'] = median_abs_deviation(variable, nan_policy = 'omit')\n",
    "    return stats"
   ],
   "metadata": {
    "collapsed": false,
    "pycharm": {
     "name": "#%%\n"
    }
   }
  },
  {
   "cell_type": "markdown",
   "source": [
    "#### Starting from Trip Seconds..."
   ],
   "metadata": {
    "collapsed": false
   }
  },
  {
   "cell_type": "code",
   "execution_count": 14,
   "outputs": [
    {
     "data": {
      "text/plain": "{'mean': 849.9995382250305,\n 'std': 1687.5361388391007,\n 'max': 85320.0,\n 'min': 0.0,\n 'median': 560.0,\n '1%': 0.0,\n '5%': 60.0,\n '10%': 180.0,\n '17,5%': 276.0,\n '25%': 346.0,\n '75%': 1020.0,\n '95%': 2280.0,\n '99%': 3600.0,\n '99.5%': 4380.0,\n '99.9%': 13835.686000000103,\n 'mad': 280.0}"
     },
     "execution_count": 14,
     "metadata": {},
     "output_type": "execute_result"
    }
   ],
   "source": [
    "stat_Trip_Seconds = statistics(df.Trip_Seconds)\n",
    "stat_Trip_Seconds"
   ],
   "metadata": {
    "collapsed": false,
    "pycharm": {
     "name": "#%%\n"
    }
   }
  },
  {
   "cell_type": "markdown",
   "source": [
    "Max value of the Trip duration (in seconds) is 85320 seconds, or 23.7h. This does not make any sense and we think that is an outlier.\n",
    "\n",
    "For this columns we consider a Winsorizing or Trimming -\n",
    "We discard values above 99.5th percentiles since they are over 73 min.\n",
    "\n",
    "We do not consider values below 10th percentiles because trips below 3 min are meaningless."
   ],
   "metadata": {
    "collapsed": false
   }
  },
  {
   "cell_type": "code",
   "execution_count": 15,
   "outputs": [
    {
     "data": {
      "text/plain": "(340439, 23)"
     },
     "execution_count": 15,
     "metadata": {},
     "output_type": "execute_result"
    }
   ],
   "source": [
    "#Winsorizing of values below the 10th percentile\n",
    "df.Trip_Seconds = df.Trip_Seconds.clip(lower = stat_Trip_Seconds['10%'])\n",
    "#Trimming of values above the 99.5th percentile\n",
    "df = df[df.Trip_Seconds < stat_Trip_Seconds['99.5%']]\n",
    "\n",
    "df.shape"
   ],
   "metadata": {
    "collapsed": false,
    "pycharm": {
     "name": "#%%\n"
    }
   }
  },
  {
   "cell_type": "code",
   "execution_count": 16,
   "outputs": [
    {
     "data": {
      "text/plain": "{'mean': 794.5381110859802,\n 'std': 671.3930996228495,\n 'max': 4379.0,\n 'min': 180.0,\n 'median': 555.0,\n '1%': 180.0,\n '5%': 180.0,\n '10%': 180.0,\n '17,5%': 274.0,\n '25%': 344.0,\n '75%': 1020.0,\n '95%': 2220.0,\n '99%': 3240.0,\n '99.5%': 3600.0,\n '99.9%': 4140.0,\n 'mad': 279.0}"
     },
     "execution_count": 16,
     "metadata": {},
     "output_type": "execute_result"
    }
   ],
   "source": [
    "#Visualizing stats after Winsorizing/Trimming\n",
    "stat_Trip_Seconds_after = statistics(df.Trip_Seconds)\n",
    "stat_Trip_Seconds_after"
   ],
   "metadata": {
    "collapsed": false,
    "pycharm": {
     "name": "#%%\n"
    }
   }
  },
  {
   "cell_type": "markdown",
   "source": [
    "#### Now the Trip Miles"
   ],
   "metadata": {
    "collapsed": false
   }
  },
  {
   "cell_type": "code",
   "execution_count": 17,
   "outputs": [
    {
     "data": {
      "text/plain": "{'mean': 3.5027847067599516,\n 'std': 6.292457658468007,\n 'max': 980.5,\n 'min': 0.0,\n 'median': 1.2,\n '1%': 0.0,\n '5%': 0.0,\n '10%': 0.0,\n '17,5%': 0.1,\n '25%': 0.5,\n '75%': 3.5,\n '95%': 17.07,\n '99%': 20.74,\n '99.5%': 25.5,\n '99.9%': 35.2,\n 'mad': 1.0999999999999999}"
     },
     "execution_count": 17,
     "metadata": {},
     "output_type": "execute_result"
    }
   ],
   "source": [
    "stat_Trip_Miles = statistics(df.Trip_Miles)\n",
    "stat_Trip_Miles"
   ],
   "metadata": {
    "collapsed": false,
    "pycharm": {
     "name": "#%%\n"
    }
   }
  },
  {
   "cell_type": "markdown",
   "source": [
    "We see that Max = 980 Miles is clearly an outlier. It's grater than the distance needed to go from Chicago to New York.\n",
    "\n",
    "Winsorizing: < 25th percentile equal to the 25th percentile because trips are less than 0.5 Miles.\n",
    "\n",
    "Values above 99.9th percentile are instead discarded (study area is about 40km wide on its longest axis)."
   ],
   "metadata": {
    "collapsed": false
   }
  },
  {
   "cell_type": "code",
   "execution_count": 18,
   "outputs": [
    {
     "data": {
      "text/plain": "(340096, 23)"
     },
     "execution_count": 18,
     "metadata": {},
     "output_type": "execute_result"
    }
   ],
   "source": [
    "#Winsorizing of values below the 25th percentile\n",
    "df.Trip_Miles = df.Trip_Miles.clip(lower = stat_Trip_Miles['25%'])\n",
    "#Trimming of values above the 99.9th percentile\n",
    "df = df[df.Trip_Miles < stat_Trip_Miles['99.9%']]\n",
    "\n",
    "df.shape"
   ],
   "metadata": {
    "collapsed": false,
    "pycharm": {
     "name": "#%%\n"
    }
   }
  },
  {
   "cell_type": "code",
   "execution_count": 19,
   "outputs": [
    {
     "data": {
      "text/plain": "{'mean': 3.550276392547919,\n 'std': 5.14975664389192,\n 'max': 35.1,\n 'min': 0.5,\n 'median': 1.2,\n '1%': 0.5,\n '5%': 0.5,\n '10%': 0.5,\n '17,5%': 0.5,\n '25%': 0.5,\n '75%': 3.5,\n '95%': 17.0,\n '99%': 20.27,\n '99.5%': 24.21,\n '99.9%': 31.288100000000558,\n 'mad': 0.7}"
     },
     "execution_count": 19,
     "metadata": {},
     "output_type": "execute_result"
    }
   ],
   "source": [
    "#Visualizing stats after Winsorizing/Trimming\n",
    "stat_Trip_Miles_after = statistics(df.Trip_Miles)\n",
    "stat_Trip_Miles_after"
   ],
   "metadata": {
    "collapsed": false,
    "pycharm": {
     "name": "#%%\n"
    }
   }
  },
  {
   "cell_type": "markdown",
   "source": [
    "#### Fares"
   ],
   "metadata": {
    "collapsed": false
   }
  },
  {
   "cell_type": "code",
   "execution_count": 20,
   "outputs": [
    {
     "data": {
      "text/plain": "{'mean': 14.84980133268242,\n 'std': 77.47432072009028,\n 'max': 9004.25,\n 'min': 0.0,\n 'median': 8.25,\n '1%': 3.25,\n '5%': 3.5,\n '10%': 4.75,\n '17,5%': 5.25,\n '25%': 6.0,\n '75%': 15.75,\n '95%': 43.5,\n '99%': 53.0,\n '99.5%': 63.25,\n '99.9%': 82.25,\n 'mad': 3.0}"
     },
     "execution_count": 20,
     "metadata": {},
     "output_type": "execute_result"
    }
   ],
   "source": [
    "Fare_stat = statistics(df.Fare)\n",
    "Fare_stat"
   ],
   "metadata": {
    "collapsed": false,
    "pycharm": {
     "name": "#%%\n"
    }
   }
  },
  {
   "cell_type": "markdown",
   "source": [
    "Winsorizing at 1%: exludes below 1st percentile (which is the Base Fare as written on the Chicago.gov website).\n",
    "Discard above the 99.9th percentile (higher values are probably caused by outliers from Miles and Trips)."
   ],
   "metadata": {
    "collapsed": false
   }
  },
  {
   "cell_type": "code",
   "execution_count": 21,
   "outputs": [],
   "source": [
    "df = df[df.Fare <= 82.25]\n",
    "df.Fare = df.Fare.clip(lower =  Fare_stat['1%'])"
   ],
   "metadata": {
    "collapsed": false,
    "pycharm": {
     "name": "#%%\n"
    }
   }
  },
  {
   "cell_type": "markdown",
   "source": [
    "Reanalyze"
   ],
   "metadata": {
    "collapsed": false,
    "pycharm": {
     "name": "#%% md\n"
    }
   }
  },
  {
   "cell_type": "code",
   "execution_count": 22,
   "outputs": [
    {
     "data": {
      "text/plain": "{'mean': 13.698266691392483,\n 'std': 12.546637624014913,\n 'max': 82.25,\n 'min': 3.25,\n 'median': 8.25,\n '1%': 3.25,\n '5%': 3.5,\n '10%': 4.75,\n '17,5%': 5.25,\n '25%': 6.0,\n '75%': 15.75,\n '95%': 43.5,\n '99%': 52.0,\n '99.5%': 60.75,\n '99.9%': 75.0,\n 'mad': 3.0}"
     },
     "execution_count": 22,
     "metadata": {},
     "output_type": "execute_result"
    }
   ],
   "source": [
    "Fare_stat =statistics(df.Fare)\n",
    "Fare_stat"
   ],
   "metadata": {
    "collapsed": false,
    "pycharm": {
     "name": "#%%\n"
    }
   }
  },
  {
   "cell_type": "markdown",
   "source": [
    "#### Tips"
   ],
   "metadata": {
    "collapsed": false,
    "pycharm": {
     "name": "#%% md\n"
    }
   }
  },
  {
   "cell_type": "code",
   "execution_count": 23,
   "outputs": [
    {
     "data": {
      "text/plain": "{'mean': 1.5434855736681425,\n 'std': 2.880891326664622,\n 'max': 300.0,\n 'min': 0.0,\n 'median': 0.0,\n '1%': 0.0,\n '5%': 0.0,\n '10%': 0.0,\n '17,5%': 0.0,\n '25%': 0.0,\n '75%': 2.0,\n '95%': 8.44,\n '99%': 11.8,\n '99.5%': 13.4,\n '99.9%': 20.0,\n 'mad': 0.0}"
     },
     "execution_count": 23,
     "metadata": {},
     "output_type": "execute_result"
    }
   ],
   "source": [
    "statistics(df.Tips)"
   ],
   "metadata": {
    "collapsed": false,
    "pycharm": {
     "name": "#%%\n"
    }
   }
  },
  {
   "cell_type": "markdown",
   "source": [
    " This is a subjetive value of each people so 0$ as tip is possible. We discard onlye above the 99.9th percentile."
   ],
   "metadata": {
    "collapsed": false
   }
  },
  {
   "cell_type": "code",
   "execution_count": 24,
   "outputs": [],
   "source": [
    "df =df[df.Tips <= 20]"
   ],
   "metadata": {
    "collapsed": false,
    "pycharm": {
     "name": "#%%\n"
    }
   }
  },
  {
   "cell_type": "markdown",
   "source": [
    "reanalyze"
   ],
   "metadata": {
    "collapsed": false,
    "pycharm": {
     "name": "#%% md\n"
    }
   }
  },
  {
   "cell_type": "code",
   "execution_count": 25,
   "outputs": [
    {
     "data": {
      "text/plain": "{'mean': 1.5211593579610732,\n 'std': 2.6569586054686827,\n 'max': 20.0,\n 'min': 0.0,\n 'median': 0.0,\n '1%': 0.0,\n '5%': 0.0,\n '10%': 0.0,\n '17,5%': 0.0,\n '25%': 0.0,\n '75%': 2.0,\n '95%': 8.35,\n '99%': 11.62,\n '99.5%': 12.95,\n '99.9%': 16.75,\n 'mad': 0.0}"
     },
     "execution_count": 25,
     "metadata": {},
     "output_type": "execute_result"
    }
   ],
   "source": [
    "statistics(df.Tips)"
   ],
   "metadata": {
    "collapsed": false,
    "pycharm": {
     "name": "#%%\n"
    }
   }
  },
  {
   "cell_type": "markdown",
   "source": [
    "#### Tolls"
   ],
   "metadata": {
    "collapsed": false,
    "pycharm": {
     "name": "#%% md\n"
    }
   }
  },
  {
   "cell_type": "code",
   "execution_count": 26,
   "outputs": [
    {
     "data": {
      "text/plain": "{'mean': 0.0013600172027300485,\n 'std': 0.12062766507245369,\n 'max': 50.0,\n 'min': 0.0,\n 'median': 0.0,\n '1%': 0.0,\n '5%': 0.0,\n '10%': 0.0,\n '17,5%': 0.0,\n '25%': 0.0,\n '75%': 0.0,\n '95%': 0.0,\n '99%': 0.0,\n '99.5%': 0.0,\n '99.9%': 0.0,\n 'mad': 0.0}"
     },
     "execution_count": 26,
     "metadata": {},
     "output_type": "execute_result"
    }
   ],
   "source": [
    "statistics(df.Tolls)"
   ],
   "metadata": {
    "collapsed": false,
    "pycharm": {
     "name": "#%%\n"
    }
   }
  },
  {
   "cell_type": "markdown",
   "source": [
    "Watching the percentile and considering that we are in a City and so the Tolls should not appear\n",
    "we can trimming above the 99.9th percentile"
   ],
   "metadata": {
    "collapsed": false
   }
  },
  {
   "cell_type": "code",
   "execution_count": 27,
   "outputs": [],
   "source": [
    "df =df[df.Tolls == 0]"
   ],
   "metadata": {
    "collapsed": false,
    "pycharm": {
     "name": "#%%\n"
    }
   }
  },
  {
   "cell_type": "code",
   "execution_count": 28,
   "outputs": [
    {
     "data": {
      "text/plain": "{'mean': 0.0,\n 'std': 0.0,\n 'max': 0.0,\n 'min': 0.0,\n 'median': 0.0,\n '1%': 0.0,\n '5%': 0.0,\n '10%': 0.0,\n '17,5%': 0.0,\n '25%': 0.0,\n '75%': 0.0,\n '95%': 0.0,\n '99%': 0.0,\n '99.5%': 0.0,\n '99.9%': 0.0,\n 'mad': 0.0}"
     },
     "execution_count": 28,
     "metadata": {},
     "output_type": "execute_result"
    }
   ],
   "source": [
    "statistics(df.Tolls)"
   ],
   "metadata": {
    "collapsed": false,
    "pycharm": {
     "name": "#%%\n"
    }
   }
  },
  {
   "cell_type": "markdown",
   "source": [
    "#### Extras."
   ],
   "metadata": {
    "collapsed": false,
    "pycharm": {
     "name": "#%% md\n"
    }
   }
  },
  {
   "cell_type": "code",
   "execution_count": 29,
   "outputs": [
    {
     "data": {
      "text/plain": "{'mean': 1.0568394591663517,\n 'std': 26.86605453630908,\n 'max': 9900.66,\n 'min': 0.0,\n 'median': 0.0,\n '1%': 0.0,\n '5%': 0.0,\n '10%': 0.0,\n '17,5%': 0.0,\n '25%': 0.0,\n '75%': 1.0,\n '95%': 4.0,\n '99%': 12.0,\n '99.5%': 26.0,\n '99.9%': 42.5,\n 'mad': 0.0}"
     },
     "execution_count": 29,
     "metadata": {},
     "output_type": "execute_result"
    }
   ],
   "source": [
    "statistics(df.Extras)"
   ],
   "metadata": {
    "collapsed": false,
    "pycharm": {
     "name": "#%%\n"
    }
   }
  },
  {
   "cell_type": "markdown",
   "source": [
    "Extras = 0$ is accetable.\n",
    "We trimming above 99.9th"
   ],
   "metadata": {
    "collapsed": false,
    "pycharm": {
     "name": "#%% md\n"
    }
   }
  },
  {
   "cell_type": "code",
   "execution_count": 30,
   "outputs": [],
   "source": [
    "df = df[df.Extras <= 42.5]"
   ],
   "metadata": {
    "collapsed": false,
    "pycharm": {
     "name": "#%%\n"
    }
   }
  },
  {
   "cell_type": "markdown",
   "source": [
    "reanalyze"
   ],
   "metadata": {
    "collapsed": false,
    "pycharm": {
     "name": "#%% md\n"
    }
   }
  },
  {
   "cell_type": "code",
   "execution_count": 31,
   "outputs": [
    {
     "data": {
      "text/plain": "{'mean': 0.8754950530097872,\n 'std': 2.8179486266648315,\n 'max': 42.5,\n 'min': 0.0,\n 'median': 0.0,\n '1%': 0.0,\n '5%': 0.0,\n '10%': 0.0,\n '17,5%': 0.0,\n '25%': 0.0,\n '75%': 1.0,\n '95%': 4.0,\n '99%': 10.0,\n '99.5%': 24.0,\n '99.9%': 35.5,\n 'mad': 0.0}"
     },
     "execution_count": 31,
     "metadata": {},
     "output_type": "execute_result"
    }
   ],
   "source": [
    "statistics(df.Extras)"
   ],
   "metadata": {
    "collapsed": false,
    "pycharm": {
     "name": "#%%\n"
    }
   }
  },
  {
   "cell_type": "markdown",
   "source": [
    "#### Trip Total"
   ],
   "metadata": {
    "collapsed": false
   }
  },
  {
   "cell_type": "code",
   "execution_count": 32,
   "outputs": [],
   "source": [
    "Trip_Total_stat = statistics(df.Trip_Total)"
   ],
   "metadata": {
    "collapsed": false,
    "pycharm": {
     "name": "#%%\n"
    }
   }
  },
  {
   "cell_type": "markdown",
   "source": [
    "This colums is the sum of the previous one so not mak sense a value below the 1th percentile\n",
    "so we need to Winsorizing the data below this value"
   ],
   "metadata": {
    "collapsed": false,
    "pycharm": {
     "name": "#%% md\n"
    }
   }
  },
  {
   "cell_type": "code",
   "execution_count": 33,
   "outputs": [],
   "source": [
    "df.Trip_Total = df.Trip_Total.clip(Trip_Total_stat['1%'])"
   ],
   "metadata": {
    "collapsed": false,
    "pycharm": {
     "name": "#%%\n"
    }
   }
  },
  {
   "cell_type": "markdown",
   "source": [
    "reanalyze"
   ],
   "metadata": {
    "collapsed": false,
    "pycharm": {
     "name": "#%% md\n"
    }
   }
  },
  {
   "cell_type": "code",
   "execution_count": 34,
   "outputs": [
    {
     "data": {
      "text/plain": "{'mean': 16.164382112957423,\n 'std': 15.501259178097856,\n 'max': 134.25,\n 'min': 3.25,\n 'median': 9.75,\n '1%': 3.25,\n '5%': 4.0,\n '10%': 5.25,\n '17,5%': 6.25,\n '25%': 7.0,\n '75%': 17.75,\n '95%': 53.8,\n '99%': 66.0,\n '99.5%': 76.6,\n '99.9%': 99.0,\n 'mad': 3.75}"
     },
     "execution_count": 34,
     "metadata": {},
     "output_type": "execute_result"
    }
   ],
   "source": [
    "statistics(df.Trip_Total)"
   ],
   "metadata": {
    "collapsed": false,
    "pycharm": {
     "name": "#%%\n"
    }
   }
  },
  {
   "cell_type": "code",
   "execution_count": 35,
   "outputs": [
    {
     "data": {
      "text/plain": "{'mean': 27.41607920792079,\n 'std': 21.20732017456854,\n 'max': 77.0,\n 'min': 1.0,\n 'median': 28.0,\n '1%': 2.0,\n '5%': 6.0,\n '10%': 8.0,\n '17,5%': 8.0,\n '25%': 8.0,\n '75%': 32.0,\n '95%': 76.0,\n '99%': 77.0,\n '99.5%': 77.0,\n '99.9%': 77.0,\n 'mad': 20.0}"
     },
     "execution_count": 35,
     "metadata": {},
     "output_type": "execute_result"
    }
   ],
   "source": [
    "statistics(df.Pickup_Community_Area)"
   ],
   "metadata": {
    "collapsed": false,
    "pycharm": {
     "name": "#%%\n"
    }
   }
  },
  {
   "cell_type": "code",
   "execution_count": 36,
   "outputs": [
    {
     "data": {
      "text/plain": "{'mean': 23.20770018006814,\n 'std': 18.01902434884715,\n 'max': 77.0,\n 'min': 1.0,\n 'median': 24.0,\n '1%': 2.0,\n '5%': 5.0,\n '10%': 7.0,\n '17,5%': 8.0,\n '25%': 8.0,\n '75%': 32.0,\n '95%': 69.0,\n '99%': 77.0,\n '99.5%': 77.0,\n '99.9%': 77.0,\n 'mad': 16.0}"
     },
     "execution_count": 36,
     "metadata": {},
     "output_type": "execute_result"
    }
   ],
   "source": [
    "statistics(df.Dropoff_Community_Area)"
   ],
   "metadata": {
    "collapsed": false,
    "pycharm": {
     "name": "#%%\n"
    }
   }
  },
  {
   "cell_type": "markdown",
   "source": [
    "The previous two value are NaN or between 1 and 77 so they make sense"
   ],
   "metadata": {
    "collapsed": false,
    "pycharm": {
     "name": "#%% md\n"
    }
   }
  },
  {
   "cell_type": "code",
   "execution_count": 37,
   "outputs": [
    {
     "data": {
      "text/plain": "(338994, 23)"
     },
     "execution_count": 37,
     "metadata": {},
     "output_type": "execute_result"
    }
   ],
   "source": [
    "df.shape"
   ],
   "metadata": {
    "collapsed": false,
    "pycharm": {
     "name": "#%%\n"
    }
   }
  },
  {
   "cell_type": "code",
   "execution_count": 38,
   "outputs": [
    {
     "data": {
      "text/plain": "Trip_ID                            0\nTaxi_ID                           18\nTrip_Start_Timestamp               0\nTrip_End_Timestamp                 0\nTrip_Seconds                       0\nTrip_Miles                         0\nPickup_Census_Tract           166005\nDropoff_Census_Tract          166754\nPickup_Community_Area          23369\nDropoff_Community_Area         30222\nFare                               0\nTips                               0\nTolls                              0\nExtras                             0\nTrip_Total                         0\nPayment_Type                       0\nCompany                            0\nPickup_Centroid_Latitude       23319\nPickup_Centroid_Longitude      23319\nPickup_Centroid_Location       23319\nDropoff_Centroid_Latitude      29587\nDropoff_Centroid_Longitude     29587\nDropoff_Centroid__Location     29587\ndtype: int64"
     },
     "execution_count": 38,
     "metadata": {},
     "output_type": "execute_result"
    }
   ],
   "source": [
    "df.isnull().sum()"
   ],
   "metadata": {
    "collapsed": false,
    "pycharm": {
     "name": "#%%\n"
    }
   }
  },
  {
   "cell_type": "markdown",
   "source": [
    "We discard all the data error (such as wrong datatime) and eclude outlier data\n",
    "(with the actual miles seconds trips we can have trip out Chicago with sense)"
   ],
   "metadata": {
    "collapsed": false,
    "pycharm": {
     "name": "#%% md\n"
    }
   }
  },
  {
   "cell_type": "markdown",
   "source": [
    "# Analyzing Weather data\n",
    " We now open the dataset of weather to simply control it"
   ],
   "metadata": {
    "collapsed": false
   }
  },
  {
   "cell_type": "code",
   "execution_count": 39,
   "outputs": [],
   "source": [
    "weather = pd.read_csv(Path(\"data/OHare_Airport_Daily_Weather_2020.csv\"))\n",
    "\n",
    "weather.columns = [c.replace(' ', '_') for c in weather.columns]"
   ],
   "metadata": {
    "collapsed": false,
    "pycharm": {
     "name": "#%%\n"
    }
   }
  },
  {
   "cell_type": "code",
   "execution_count": 40,
   "outputs": [
    {
     "data": {
      "text/plain": "(295, 40)"
     },
     "execution_count": 40,
     "metadata": {},
     "output_type": "execute_result"
    }
   ],
   "source": [
    "weather.shape"
   ],
   "metadata": {
    "collapsed": false,
    "pycharm": {
     "name": "#%%\n"
    }
   }
  },
  {
   "cell_type": "code",
   "execution_count": 41,
   "outputs": [
    {
     "data": {
      "text/plain": "       STATION                                        NAME  LATITUDE  \\\n0  USW00094846  CHICAGO OHARE INTERNATIONAL AIRPORT, IL US  41.96019   \n1  USW00094846  CHICAGO OHARE INTERNATIONAL AIRPORT, IL US  41.96019   \n2  USW00094846  CHICAGO OHARE INTERNATIONAL AIRPORT, IL US  41.96019   \n3  USW00094846  CHICAGO OHARE INTERNATIONAL AIRPORT, IL US  41.96019   \n4  USW00094846  CHICAGO OHARE INTERNATIONAL AIRPORT, IL US  41.96019   \n\n   LONGITUDE  ELEVATION        DATE  AWND AWND_ATTRIBUTES  PRCP  \\\n0  -87.93162      201.8  2020-01-01   5.3             ,,W   0.0   \n1  -87.93162      201.8  2020-01-02   5.2             ,,W   0.0   \n2  -87.93162      201.8  2020-01-03   2.7             ,,W   0.0   \n3  -87.93162      201.8  2020-01-04   4.1             ,,W   0.8   \n4  -87.93162      201.8  2020-01-05   6.2             ,,W   0.0   \n\n  PRCP_ATTRIBUTES  ...  WT04 WT04_ATTRIBUTES  WT05 WT05_ATTRIBUTES  WT06  \\\n0        ,,W,2400  ...   NaN             NaN   NaN             NaN   NaN   \n1        ,,W,2400  ...   NaN             NaN   NaN             NaN   NaN   \n2        ,,W,2400  ...   NaN             NaN   NaN             NaN   NaN   \n3        ,,W,2400  ...   NaN             NaN   NaN             NaN   NaN   \n4        ,,W,2400  ...   NaN             NaN   NaN             NaN   NaN   \n\n  WT06_ATTRIBUTES  WT08 WT08_ATTRIBUTES  WT09 WT09_ATTRIBUTES  \n0             NaN   NaN             NaN   NaN             NaN  \n1             NaN   NaN             NaN   NaN             NaN  \n2             NaN   NaN             NaN   NaN             NaN  \n3             NaN   1.0             ,,W   NaN             NaN  \n4             NaN   NaN             NaN   NaN             NaN  \n\n[5 rows x 40 columns]",
      "text/html": "<div>\n<style scoped>\n    .dataframe tbody tr th:only-of-type {\n        vertical-align: middle;\n    }\n\n    .dataframe tbody tr th {\n        vertical-align: top;\n    }\n\n    .dataframe thead th {\n        text-align: right;\n    }\n</style>\n<table border=\"1\" class=\"dataframe\">\n  <thead>\n    <tr style=\"text-align: right;\">\n      <th></th>\n      <th>STATION</th>\n      <th>NAME</th>\n      <th>LATITUDE</th>\n      <th>LONGITUDE</th>\n      <th>ELEVATION</th>\n      <th>DATE</th>\n      <th>AWND</th>\n      <th>AWND_ATTRIBUTES</th>\n      <th>PRCP</th>\n      <th>PRCP_ATTRIBUTES</th>\n      <th>...</th>\n      <th>WT04</th>\n      <th>WT04_ATTRIBUTES</th>\n      <th>WT05</th>\n      <th>WT05_ATTRIBUTES</th>\n      <th>WT06</th>\n      <th>WT06_ATTRIBUTES</th>\n      <th>WT08</th>\n      <th>WT08_ATTRIBUTES</th>\n      <th>WT09</th>\n      <th>WT09_ATTRIBUTES</th>\n    </tr>\n  </thead>\n  <tbody>\n    <tr>\n      <th>0</th>\n      <td>USW00094846</td>\n      <td>CHICAGO OHARE INTERNATIONAL AIRPORT, IL US</td>\n      <td>41.96019</td>\n      <td>-87.93162</td>\n      <td>201.8</td>\n      <td>2020-01-01</td>\n      <td>5.3</td>\n      <td>,,W</td>\n      <td>0.0</td>\n      <td>,,W,2400</td>\n      <td>...</td>\n      <td>NaN</td>\n      <td>NaN</td>\n      <td>NaN</td>\n      <td>NaN</td>\n      <td>NaN</td>\n      <td>NaN</td>\n      <td>NaN</td>\n      <td>NaN</td>\n      <td>NaN</td>\n      <td>NaN</td>\n    </tr>\n    <tr>\n      <th>1</th>\n      <td>USW00094846</td>\n      <td>CHICAGO OHARE INTERNATIONAL AIRPORT, IL US</td>\n      <td>41.96019</td>\n      <td>-87.93162</td>\n      <td>201.8</td>\n      <td>2020-01-02</td>\n      <td>5.2</td>\n      <td>,,W</td>\n      <td>0.0</td>\n      <td>,,W,2400</td>\n      <td>...</td>\n      <td>NaN</td>\n      <td>NaN</td>\n      <td>NaN</td>\n      <td>NaN</td>\n      <td>NaN</td>\n      <td>NaN</td>\n      <td>NaN</td>\n      <td>NaN</td>\n      <td>NaN</td>\n      <td>NaN</td>\n    </tr>\n    <tr>\n      <th>2</th>\n      <td>USW00094846</td>\n      <td>CHICAGO OHARE INTERNATIONAL AIRPORT, IL US</td>\n      <td>41.96019</td>\n      <td>-87.93162</td>\n      <td>201.8</td>\n      <td>2020-01-03</td>\n      <td>2.7</td>\n      <td>,,W</td>\n      <td>0.0</td>\n      <td>,,W,2400</td>\n      <td>...</td>\n      <td>NaN</td>\n      <td>NaN</td>\n      <td>NaN</td>\n      <td>NaN</td>\n      <td>NaN</td>\n      <td>NaN</td>\n      <td>NaN</td>\n      <td>NaN</td>\n      <td>NaN</td>\n      <td>NaN</td>\n    </tr>\n    <tr>\n      <th>3</th>\n      <td>USW00094846</td>\n      <td>CHICAGO OHARE INTERNATIONAL AIRPORT, IL US</td>\n      <td>41.96019</td>\n      <td>-87.93162</td>\n      <td>201.8</td>\n      <td>2020-01-04</td>\n      <td>4.1</td>\n      <td>,,W</td>\n      <td>0.8</td>\n      <td>,,W,2400</td>\n      <td>...</td>\n      <td>NaN</td>\n      <td>NaN</td>\n      <td>NaN</td>\n      <td>NaN</td>\n      <td>NaN</td>\n      <td>NaN</td>\n      <td>1.0</td>\n      <td>,,W</td>\n      <td>NaN</td>\n      <td>NaN</td>\n    </tr>\n    <tr>\n      <th>4</th>\n      <td>USW00094846</td>\n      <td>CHICAGO OHARE INTERNATIONAL AIRPORT, IL US</td>\n      <td>41.96019</td>\n      <td>-87.93162</td>\n      <td>201.8</td>\n      <td>2020-01-05</td>\n      <td>6.2</td>\n      <td>,,W</td>\n      <td>0.0</td>\n      <td>,,W,2400</td>\n      <td>...</td>\n      <td>NaN</td>\n      <td>NaN</td>\n      <td>NaN</td>\n      <td>NaN</td>\n      <td>NaN</td>\n      <td>NaN</td>\n      <td>NaN</td>\n      <td>NaN</td>\n      <td>NaN</td>\n      <td>NaN</td>\n    </tr>\n  </tbody>\n</table>\n<p>5 rows × 40 columns</p>\n</div>"
     },
     "execution_count": 41,
     "metadata": {},
     "output_type": "execute_result"
    }
   ],
   "source": [
    "weather.head()"
   ],
   "metadata": {
    "collapsed": false,
    "pycharm": {
     "name": "#%%\n"
    }
   }
  },
  {
   "cell_type": "code",
   "execution_count": 42,
   "outputs": [
    {
     "data": {
      "text/plain": "Index(['STATION', 'NAME', 'LATITUDE', 'LONGITUDE', 'ELEVATION', 'DATE', 'AWND',\n       'AWND_ATTRIBUTES', 'PRCP', 'PRCP_ATTRIBUTES', 'SNOW', 'SNOW_ATTRIBUTES',\n       'SNWD', 'SNWD_ATTRIBUTES', 'TAVG', 'TAVG_ATTRIBUTES', 'TMAX',\n       'TMAX_ATTRIBUTES', 'TMIN', 'TMIN_ATTRIBUTES', 'WDF5', 'WDF5_ATTRIBUTES',\n       'WSF5', 'WSF5_ATTRIBUTES', 'WT01', 'WT01_ATTRIBUTES', 'WT02',\n       'WT02_ATTRIBUTES', 'WT03', 'WT03_ATTRIBUTES', 'WT04', 'WT04_ATTRIBUTES',\n       'WT05', 'WT05_ATTRIBUTES', 'WT06', 'WT06_ATTRIBUTES', 'WT08',\n       'WT08_ATTRIBUTES', 'WT09', 'WT09_ATTRIBUTES'],\n      dtype='object')"
     },
     "execution_count": 42,
     "metadata": {},
     "output_type": "execute_result"
    }
   ],
   "source": [
    "weather.columns"
   ],
   "metadata": {
    "collapsed": false,
    "pycharm": {
     "name": "#%%\n"
    }
   }
  },
  {
   "cell_type": "markdown",
   "source": [
    "We can se that thet columns are not so legible so we rewrite them\n",
    "following the documentation of the dataset on Website"
   ],
   "metadata": {
    "collapsed": false
   }
  },
  {
   "cell_type": "code",
   "execution_count": 43,
   "outputs": [],
   "source": [
    "weather.columns = [c.replace('AWND', 'Average_Daily_Wind_speed') for c in weather.columns]\n",
    "weather.columns = [c.replace('PRCP', 'Precipitation') for c in weather.columns]\n",
    "weather.columns = [c.replace('SNWD', 'Snow_depth') for c in weather.columns]\n",
    "weather.columns = [c.replace('TMAX', 'Max_temperature') for c in weather.columns]\n",
    "weather.columns = [c.replace('TMIN', 'Minimum temperature') for c in weather.columns]\n",
    "weather.columns = [c.replace('SNOW', 'Snowfall') for c in weather.columns]\n",
    "weather.columns = [c.replace('TAVG', 'Average_temperature') for c in weather.columns]\n",
    "weather.columns = [c.replace('WDF5', 'Direction_of_fastest_5_second_wind') for c in weather.columns]\n",
    "weather.columns = [c.replace('WSF5', 'Fastest_5_second_wind_speed') for c in weather.columns]\n",
    "weather.columns = [c.replace('WT', 'Weather_Type_Value_') for c in weather.columns]"
   ],
   "metadata": {
    "collapsed": false,
    "pycharm": {
     "name": "#%%\n"
    }
   }
  },
  {
   "cell_type": "code",
   "execution_count": 44,
   "outputs": [
    {
     "data": {
      "text/plain": "Index(['STATION', 'NAME', 'LATITUDE', 'LONGITUDE', 'ELEVATION', 'DATE',\n       'Average_Daily_Wind_speed', 'Average_Daily_Wind_speed_ATTRIBUTES',\n       'Precipitation', 'Precipitation_ATTRIBUTES', 'Snowfall',\n       'Snowfall_ATTRIBUTES', 'Snow_depth', 'Snow_depth_ATTRIBUTES',\n       'Average_temperature', 'Average_temperature_ATTRIBUTES',\n       'Max_temperature', 'Max_temperature_ATTRIBUTES', 'Minimum temperature',\n       'Minimum temperature_ATTRIBUTES', 'Direction_of_fastest_5_second_wind',\n       'Direction_of_fastest_5_second_wind_ATTRIBUTES',\n       'Fastest_5_second_wind_speed', 'Fastest_5_second_wind_speed_ATTRIBUTES',\n       'Weather_Type_Value_01', 'Weather_Type_Value_01_ATTRIBUTES',\n       'Weather_Type_Value_02', 'Weather_Type_Value_02_ATTRIBUTES',\n       'Weather_Type_Value_03', 'Weather_Type_Value_03_ATTRIBUTES',\n       'Weather_Type_Value_04', 'Weather_Type_Value_04_ATTRIBUTES',\n       'Weather_Type_Value_05', 'Weather_Type_Value_05_ATTRIBUTES',\n       'Weather_Type_Value_06', 'Weather_Type_Value_06_ATTRIBUTES',\n       'Weather_Type_Value_08', 'Weather_Type_Value_08_ATTRIBUTES',\n       'Weather_Type_Value_09', 'Weather_Type_Value_09_ATTRIBUTES'],\n      dtype='object')"
     },
     "execution_count": 44,
     "metadata": {},
     "output_type": "execute_result"
    }
   ],
   "source": [
    "weather.columns"
   ],
   "metadata": {
    "collapsed": false,
    "pycharm": {
     "name": "#%%\n"
    }
   }
  },
  {
   "cell_type": "markdown",
   "source": [
    "Now we count the Nan value"
   ],
   "metadata": {
    "collapsed": false
   }
  },
  {
   "cell_type": "code",
   "execution_count": 45,
   "outputs": [
    {
     "data": {
      "text/plain": "STATION                                            0\nNAME                                               0\nLATITUDE                                           0\nLONGITUDE                                          0\nELEVATION                                          0\nDATE                                               0\nAverage_Daily_Wind_speed                           1\nAverage_Daily_Wind_speed_ATTRIBUTES                1\nPrecipitation                                      0\nPrecipitation_ATTRIBUTES                           0\nSnowfall                                           1\nSnowfall_ATTRIBUTES                                1\nSnow_depth                                         0\nSnow_depth_ATTRIBUTES                              0\nAverage_temperature                                1\nAverage_temperature_ATTRIBUTES                     1\nMax_temperature                                    0\nMax_temperature_ATTRIBUTES                         0\nMinimum temperature                                0\nMinimum temperature_ATTRIBUTES                     0\nDirection_of_fastest_5_second_wind                 3\nDirection_of_fastest_5_second_wind_ATTRIBUTES      3\nFastest_5_second_wind_speed                        3\nFastest_5_second_wind_speed_ATTRIBUTES             3\nWeather_Type_Value_01                            194\nWeather_Type_Value_01_ATTRIBUTES                 194\nWeather_Type_Value_02                            288\nWeather_Type_Value_02_ATTRIBUTES                 288\nWeather_Type_Value_03                            256\nWeather_Type_Value_03_ATTRIBUTES                 256\nWeather_Type_Value_04                            294\nWeather_Type_Value_04_ATTRIBUTES                 294\nWeather_Type_Value_05                            292\nWeather_Type_Value_05_ATTRIBUTES                 292\nWeather_Type_Value_06                            290\nWeather_Type_Value_06_ATTRIBUTES                 290\nWeather_Type_Value_08                            246\nWeather_Type_Value_08_ATTRIBUTES                 246\nWeather_Type_Value_09                            292\nWeather_Type_Value_09_ATTRIBUTES                 292\ndtype: int64"
     },
     "execution_count": 45,
     "metadata": {},
     "output_type": "execute_result"
    }
   ],
   "source": [
    "weather.isnull().sum()"
   ],
   "metadata": {
    "collapsed": false,
    "pycharm": {
     "name": "#%%\n"
    }
   }
  },
  {
   "cell_type": "markdown",
   "source": [
    "We found that the are a lot of NaN value in the Weather\n",
    "Type columns.\n",
    "\n",
    "This follow the documentation of the datest because\n",
    "the Weather Type Value can not be true for all type of weather."
   ],
   "metadata": {
    "collapsed": false
   }
  },
  {
   "cell_type": "code",
   "execution_count": 46,
   "outputs": [
    {
     "data": {
      "text/plain": "(295, 40)"
     },
     "execution_count": 46,
     "metadata": {},
     "output_type": "execute_result"
    }
   ],
   "source": [
    "weather.dropna(how='all').shape"
   ],
   "metadata": {
    "collapsed": false,
    "pycharm": {
     "name": "#%%\n"
    }
   }
  },
  {
   "cell_type": "markdown",
   "source": [
    "So we can assume that there are not errors in the dataset of weather"
   ],
   "metadata": {
    "collapsed": false
   }
  },
  {
   "cell_type": "markdown",
   "source": [
    "Now We generate the csv file data to better preserve the cleaning operation for\n",
    "visualization"
   ],
   "metadata": {
    "collapsed": false
   }
  },
  {
   "cell_type": "code",
   "execution_count": 47,
   "outputs": [],
   "source": [
    "df.to_csv(Path(\"generated_data/chicago_taxi_small_and_cleaned.csv\"), index = False)"
   ],
   "metadata": {
    "collapsed": false,
    "pycharm": {
     "name": "#%%\n"
    }
   }
  },
  {
   "cell_type": "code",
   "execution_count": 48,
   "outputs": [],
   "source": [
    "weather.to_csv(Path(\"generated_data/daily_weather_cleaned_and_reformated.csv\"), index = False)\n"
   ],
   "metadata": {
    "collapsed": false,
    "pycharm": {
     "name": "#%%\n"
    }
   }
  }
 ],
 "metadata": {
  "celltoolbar": "Raw Cell Format",
  "kernelspec": {
   "display_name": "Python 3",
   "language": "python",
   "name": "python3"
  },
  "language_info": {
   "codemirror_mode": {
    "name": "ipython",
    "version": 3
   },
   "file_extension": ".py",
   "mimetype": "text/x-python",
   "name": "python",
   "nbconvert_exporter": "python",
   "pygments_lexer": "ipython3",
   "version": "3.8.3"
  }
 },
 "nbformat": 4,
 "nbformat_minor": 4
}