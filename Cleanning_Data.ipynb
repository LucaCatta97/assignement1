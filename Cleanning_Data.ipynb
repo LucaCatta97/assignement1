{
 "cells": [
  {
   "cell_type": "markdown",
   "source": [
    "## Cleaning Data\n",
    "\n",
    "In this notebook we start the analizing the two dataset and correct errors\n"
   ],
   "metadata": {
    "collapsed": false
   }
  },
  {
   "cell_type": "code",
   "execution_count": null,
   "outputs": [],
   "source": [
    "import numpy as np\n",
    "import pandas as pd\n",
    "from matplotlib import pyplot as plt\n",
    "from pathlib import Path\n",
    "from scipy.stats.mstats import winsorize\n"
   ],
   "metadata": {
    "collapsed": false,
    "pycharm": {
     "name": "#%%\n"
    }
   }
  },
  {
   "cell_type": "markdown",
   "source": [
    "## Taxi Dataset\n",
    "\n",
    "We start from the taxi dataset"
   ],
   "metadata": {
    "collapsed": false
   }
  },
  {
   "cell_type": "code",
   "execution_count": null,
   "outputs": [],
   "source": [
    "df = pd.read_csv(Path(\"data/Chicago_Taxi_Trips_2020_10percent.csv\")) # this open the csv dataset considering the path\n",
    "#print(df.head()) #first 5 lines\n",
    "\n",
    "df.columns = [c.replace(' ', '_') for c in df.columns]  #replaces spaces in columns with underscores"
   ],
   "metadata": {
    "collapsed": false,
    "pycharm": {
     "name": "#%%\n"
    }
   }
  },
  {
   "cell_type": "code",
   "execution_count": null,
   "outputs": [],
   "source": [
    "df.head()"
   ],
   "metadata": {
    "collapsed": false,
    "pycharm": {
     "name": "#%%\n"
    }
   }
  },
  {
   "cell_type": "code",
   "execution_count": null,
   "outputs": [],
   "source": [
    "df.shape"
   ],
   "metadata": {
    "collapsed": false,
    "pycharm": {
     "name": "#%%\n"
    }
   }
  },
  {
   "cell_type": "markdown",
   "source": [
    "### Data preparation - Time"
   ],
   "metadata": {
    "collapsed": false
   }
  },
  {
   "cell_type": "code",
   "execution_count": null,
   "outputs": [],
   "source": [
    "#This code recognises AM/PM difference\n",
    "df.Trip_Start_Timestamp = pd.to_datetime(df.Trip_Start_Timestamp, format='%m/%d/%Y %I:%M:%S %p')\n",
    "df.Trip_End_Timestamp = pd.to_datetime(df.Trip_End_Timestamp, format='%m/%d/%Y %I:%M:%S %p')\n",
    "#This line excludes trips that End before Starting (90 trips)\n",
    "df = df[df.Trip_End_Timestamp >= df.Trip_Start_Timestamp]"
   ],
   "metadata": {
    "collapsed": false,
    "pycharm": {
     "name": "#%%\n"
    }
   }
  },
  {
   "cell_type": "code",
   "execution_count": null,
   "outputs": [],
   "source": [
    "#TODO ci sarebbe da controllare se la durata in secondi sia la stessa della differenza fra partenza e arrivo\n",
    "#df=df[(df.Trip_End_Timestamp-df.Trip_Start_Timestamp)==pd.to_timedelta(df.Trip_Seconds * 10 ** 9)]"
   ],
   "metadata": {
    "collapsed": false,
    "pycharm": {
     "name": "#%%\n"
    }
   }
  },
  {
   "cell_type": "code",
   "execution_count": null,
   "outputs": [],
   "source": [
    "df.shape"
   ],
   "metadata": {
    "collapsed": false,
    "pycharm": {
     "name": "#%%\n"
    }
   }
  },
  {
   "cell_type": "code",
   "execution_count": null,
   "outputs": [],
   "source": [
    "df.info()"
   ],
   "metadata": {
    "collapsed": false,
    "pycharm": {
     "name": "#%%\n"
    }
   }
  },
  {
   "cell_type": "code",
   "execution_count": null,
   "outputs": [],
   "source": [
    "df.head()"
   ],
   "metadata": {
    "collapsed": false,
    "pycharm": {
     "name": "#%%\n"
    }
   }
  },
  {
   "cell_type": "markdown",
   "source": [
    "### Data preparation - MV\n",
    "\n"
   ],
   "metadata": {
    "collapsed": false
   }
  },
  {
   "cell_type": "markdown",
   "source": [
    "We count the number of missing values for each columns"
   ],
   "metadata": {
    "collapsed": false
   }
  },
  {
   "cell_type": "code",
   "execution_count": null,
   "outputs": [],
   "source": [
    "df.isnull().sum()"
   ],
   "metadata": {
    "collapsed": false,
    "pycharm": {
     "name": "#%%\n"
    }
   }
  },
  {
   "cell_type": "markdown",
   "source": [
    "Using the description given from the City of Chicago we can assume that there are\n",
    "from 23930 to 30916 trips from (or to) locations outside Chicago.\n",
    "\n",
    "We firstly check if there are totally empty rows. We will remove them."
   ],
   "metadata": {
    "collapsed": false
   }
  },
  {
   "cell_type": "code",
   "execution_count": null,
   "outputs": [],
   "source": [
    "df.dropna(how='all').shape"
   ],
   "metadata": {
    "collapsed": false,
    "pycharm": {
     "name": "#%%\n"
    }
   }
  },
  {
   "cell_type": "markdown",
   "source": [
    "Turns out that the all rows have at least one valid value"
   ],
   "metadata": {
    "collapsed": false
   }
  },
  {
   "cell_type": "markdown",
   "source": [
    "### Statistics"
   ],
   "metadata": {
    "collapsed": false
   }
  },
  {
   "cell_type": "code",
   "execution_count": null,
   "outputs": [],
   "source": [
    "from scipy.stats import median_abs_deviation #as median_abs_deviation"
   ],
   "metadata": {
    "collapsed": false,
    "pycharm": {
     "name": "#%%\n"
    }
   }
  },
  {
   "cell_type": "markdown",
   "source": [
    "The following function will help us to compute some statics useful to analyze our data.\n",
    "???Or correct NaN value using the Winsorizing approach with a reasonable approach to the correct percentile."
   ],
   "metadata": {
    "collapsed": false
   }
  },
  {
   "cell_type": "code",
   "execution_count": null,
   "outputs": [],
   "source": [
    "def statistics(variable):\n",
    "    stats = {}\n",
    "    stats['mean'] = variable.mean()\n",
    "    stats['std'] = variable.std()\n",
    "    stats['max'] = variable.max()\n",
    "    stats['min'] = variable.min()\n",
    "    stats['median'] = np.nanmedian(variable)  #NANmedian invece di median\n",
    "    stats['1%'] = np.nanpercentile(variable, 1)\n",
    "    stats['5%'] = np.nanpercentile(variable, 5)\n",
    "    stats['10%'] = np.nanpercentile(variable,10)  #NANpercentile invece di percentile\n",
    "    stats['17,5%'] = np.nanpercentile(variable,17.5)\n",
    "    stats['25%'] = np.nanpercentile(variable,25)  #NANpercentile invece di percentile\n",
    "    stats['75%'] = np.nanpercentile(variable,75)  #NANpercentile invece di percentile\n",
    "    stats['95%'] = np.nanpercentile(variable, 95)\n",
    "    stats['99%'] = np.nanpercentile(variable,99)  #NANpercentile invece di percentile\n",
    "    stats['99.5%'] = np.nanpercentile(variable,99.5)  #NANpercentile invece di percentile\n",
    "    stats['99.9%'] = np.nanpercentile(variable,99.9)  #NANpercentile invece di percentile\n",
    "    stats['mad'] = median_abs_deviation(variable, nan_policy = 'omit')\n",
    "    return stats"
   ],
   "metadata": {
    "collapsed": false,
    "pycharm": {
     "name": "#%%\n"
    }
   }
  },
  {
   "cell_type": "markdown",
   "source": [
    "#### Starting from Trip Seconds..."
   ],
   "metadata": {
    "collapsed": false
   }
  },
  {
   "cell_type": "code",
   "execution_count": null,
   "outputs": [],
   "source": [
    "stat_Trip_Seconds = statistics(df.Trip_Seconds)\n",
    "stat_Trip_Seconds"
   ],
   "metadata": {
    "collapsed": false,
    "pycharm": {
     "name": "#%%\n"
    }
   }
  },
  {
   "cell_type": "markdown",
   "source": [
    "Max value of the Trip duration (in seconds) is 85320 seconds, or 23.7h. This does not make any sense and we think that is an outlier.\n",
    "\n",
    "For this columns we consider a Winsorizing or Trimming -\n",
    "We discard values above 99.5th percentiles since they are over 73 min.\n",
    "\n",
    "We do not consider values below 10th percentiles because trips below 3 min are meaningless."
   ],
   "metadata": {
    "collapsed": false
   }
  },
  {
   "cell_type": "code",
   "execution_count": null,
   "outputs": [],
   "source": [
    "#Winsorizing of values below the 10th percentile\n",
    "df.Trip_Seconds = df.Trip_Seconds.clip(lower = stat_Trip_Seconds['10%'])\n",
    "#Trimming of values above the 99.5th percentile\n",
    "df = df[df.Trip_Seconds < stat_Trip_Seconds['99.5%']]\n",
    "\n",
    "df.shape"
   ],
   "metadata": {
    "collapsed": false,
    "pycharm": {
     "name": "#%%\n"
    }
   }
  },
  {
   "cell_type": "code",
   "execution_count": null,
   "outputs": [],
   "source": [
    "#Visualizing stats after Winsorizing/Trimming\n",
    "stat_Trip_Seconds_after = statistics(df.Trip_Seconds)\n",
    "stat_Trip_Seconds_after"
   ],
   "metadata": {
    "collapsed": false,
    "pycharm": {
     "name": "#%%\n"
    }
   }
  },
  {
   "cell_type": "markdown",
   "source": [
    "#### Now the Trip Miles"
   ],
   "metadata": {
    "collapsed": false
   }
  },
  {
   "cell_type": "code",
   "execution_count": null,
   "outputs": [],
   "source": [
    "stat_Trip_Miles = statistics(df.Trip_Miles)\n",
    "stat_Trip_Miles"
   ],
   "metadata": {
    "collapsed": false,
    "pycharm": {
     "name": "#%%\n"
    }
   }
  },
  {
   "cell_type": "markdown",
   "source": [
    "We see that Max = 980 Miles is clearly an outlier. It's grater than the distance needed to go from Chicago to New York.\n",
    "\n",
    "Winsorizing: < 25th percentile equal to the 25th percentile because trips are less than 0.5 Miles.\n",
    "\n",
    "Values above 99.9th percentile are instead discarded (study area is about 40km wide on its longest axis)."
   ],
   "metadata": {
    "collapsed": false
   }
  },
  {
   "cell_type": "code",
   "execution_count": null,
   "outputs": [],
   "source": [
    "#Winsorizing of values below the 25th percentile\n",
    "df.Trip_Miles = df.Trip_Miles.clip(lower = stat_Trip_Miles['25%'])\n",
    "#Trimming of values above the 99.9th percentile\n",
    "df = df[df.Trip_Miles < stat_Trip_Miles['99.9%']]\n",
    "\n",
    "df.shape"
   ],
   "metadata": {
    "collapsed": false,
    "pycharm": {
     "name": "#%%\n"
    }
   }
  },
  {
   "cell_type": "code",
   "execution_count": null,
   "outputs": [],
   "source": [
    "#Visualizing stats after Winsorizing/Trimming\n",
    "stat_Trip_Miles_after = statistics(df.Trip_Miles)\n",
    "stat_Trip_Miles_after"
   ],
   "metadata": {
    "collapsed": false,
    "pycharm": {
     "name": "#%%\n"
    }
   }
  },
  {
   "cell_type": "markdown",
   "source": [
    "#### Fares"
   ],
   "metadata": {
    "collapsed": false
   }
  },
  {
   "cell_type": "code",
   "execution_count": null,
   "outputs": [],
   "source": [
    "statistics(df.Fare)"
   ],
   "metadata": {
    "collapsed": false,
    "pycharm": {
     "name": "#%%\n"
    }
   }
  },
  {
   "cell_type": "markdown",
   "source": [
    "Winsorizing at 1,1%: exludes below 1st percentile (which is the Base Fare as written on the Chicago.gov website).\n",
    "Above the 99.9th percentile (higher values are probably caused by outliers from Miles and Trips).\n",
    "\n",
    "\n",
    "#### Tips"
   ],
   "metadata": {
    "collapsed": false
   }
  },
  {
   "cell_type": "code",
   "execution_count": null,
   "outputs": [],
   "source": [
    "statistics(df.Tips)"
   ],
   "metadata": {
    "collapsed": false,
    "pycharm": {
     "name": "#%%\n"
    }
   }
  },
  {
   "cell_type": "markdown",
   "source": [
    " This is a subjetive value of each people so we think that is better\n",
    " to just ignore values above the 99.9th percentile.\n",
    "\n",
    "#### Tolls"
   ],
   "metadata": {
    "collapsed": false
   }
  },
  {
   "cell_type": "code",
   "execution_count": null,
   "outputs": [],
   "source": [
    "statistics(df.Tolls)"
   ],
   "metadata": {
    "collapsed": false,
    "pycharm": {
     "name": "#%%\n"
    }
   }
  },
  {
   "cell_type": "markdown",
   "source": [
    " This is influnced by the trips outside Chicago we need to reanalyze  after\n",
    "\n",
    "#### Extras"
   ],
   "metadata": {
    "collapsed": false
   }
  },
  {
   "cell_type": "code",
   "execution_count": null,
   "outputs": [],
   "source": [
    "statistics(df.Extras)"
   ],
   "metadata": {
    "collapsed": false,
    "pycharm": {
     "name": "#%%\n"
    }
   }
  },
  {
   "cell_type": "markdown",
   "source": [
    "#### Trip Total"
   ],
   "metadata": {
    "collapsed": false
   }
  },
  {
   "cell_type": "code",
   "execution_count": null,
   "outputs": [],
   "source": [
    "statistics(df.Trip_Total)"
   ],
   "metadata": {
    "collapsed": false,
    "pycharm": {
     "name": "#%%\n"
    }
   }
  },
  {
   "cell_type": "code",
   "execution_count": null,
   "outputs": [],
   "source": [
    "#solo colonne su cui ha senso fare media, mediana, ecc...\n",
    "#num_features = [4,5,10,11,12,13,14]\n",
    "#num_features = ['Trip_Seconds','Trip_Miles','Fare','Tips','Tolls','Extras','Trip_Total']"
   ],
   "metadata": {
    "collapsed": false,
    "pycharm": {
     "name": "#%%\n"
    }
   }
  },
  {
   "cell_type": "code",
   "execution_count": null,
   "outputs": [],
   "source": [
    "#def summarize(data, features):\n",
    "    #summary = {}\n",
    "    #for i in range(6):\n",
    "        #summary[i] = statistics(data.iloc[:,features[i]])\n",
    "    #return summary"
   ],
   "metadata": {
    "collapsed": false,
    "pycharm": {
     "name": "#%%\n"
    }
   }
  },
  {
   "cell_type": "code",
   "execution_count": null,
   "outputs": [],
   "source": [
    "#summarize(df,num_features)"
   ],
   "metadata": {
    "collapsed": false,
    "pycharm": {
     "name": "#%%\n"
    }
   }
  },
  {
   "cell_type": "markdown",
   "source": [
    "# Analyzing Weather data\n",
    " We now open the dataset of weather to simply control it"
   ],
   "metadata": {
    "collapsed": false
   }
  },
  {
   "cell_type": "code",
   "execution_count": null,
   "outputs": [],
   "source": [
    "weather = pd.read_csv(Path(\"data/OHare_Airport_Daily_Weather_2020.csv\"))\n",
    "\n",
    "weather.columns = [c.replace(' ', '_') for c in weather.columns]"
   ],
   "metadata": {
    "collapsed": false,
    "pycharm": {
     "name": "#%%\n"
    }
   }
  },
  {
   "cell_type": "code",
   "execution_count": null,
   "outputs": [],
   "source": [
    "weather.shape"
   ],
   "metadata": {
    "collapsed": false,
    "pycharm": {
     "name": "#%%\n"
    }
   }
  },
  {
   "cell_type": "code",
   "execution_count": null,
   "outputs": [],
   "source": [
    "weather.head()"
   ],
   "metadata": {
    "collapsed": false,
    "pycharm": {
     "name": "#%%\n"
    }
   }
  },
  {
   "cell_type": "code",
   "execution_count": null,
   "outputs": [],
   "source": [
    "weather.columns"
   ],
   "metadata": {
    "collapsed": false,
    "pycharm": {
     "name": "#%%\n"
    }
   }
  },
  {
   "cell_type": "markdown",
   "source": [
    "We can se that thet columns are not so legible so we rewrite them\n",
    "following the documentation of the dataset on Website"
   ],
   "metadata": {
    "collapsed": false
   }
  },
  {
   "cell_type": "code",
   "execution_count": null,
   "outputs": [],
   "source": [
    "weather.columns = [c.replace('AWND', 'Average_Daily_Wind_speed') for c in weather.columns]\n",
    "weather.columns = [c.replace('PRCP', 'Precipitation') for c in weather.columns]\n",
    "weather.columns = [c.replace('SNWD', 'Snow_depth') for c in weather.columns]\n",
    "weather.columns = [c.replace('TMAX', 'Max_temperature') for c in weather.columns]\n",
    "weather.columns = [c.replace('TMIN', 'Minimum temperature') for c in weather.columns]\n",
    "weather.columns = [c.replace('SNOW', 'Snowfall') for c in weather.columns]\n",
    "weather.columns = [c.replace('TAVG', 'Average_temperature') for c in weather.columns]\n",
    "weather.columns = [c.replace('WDF5', 'Direction_of_fastest_5_second_wind') for c in weather.columns]\n",
    "weather.columns = [c.replace('WSF5', 'Fastest_5_second_wind_speed') for c in weather.columns]\n",
    "weather.columns = [c.replace('WT', 'Weather_Type_Value_') for c in weather.columns]"
   ],
   "metadata": {
    "collapsed": false,
    "pycharm": {
     "name": "#%%\n"
    }
   }
  },
  {
   "cell_type": "code",
   "execution_count": null,
   "outputs": [],
   "source": [
    "weather.columns"
   ],
   "metadata": {
    "collapsed": false,
    "pycharm": {
     "name": "#%%\n"
    }
   }
  },
  {
   "cell_type": "markdown",
   "source": [
    "Now we count the Nan value"
   ],
   "metadata": {
    "collapsed": false
   }
  },
  {
   "cell_type": "code",
   "execution_count": null,
   "outputs": [],
   "source": [
    "weather.isnull().sum()"
   ],
   "metadata": {
    "collapsed": false,
    "pycharm": {
     "name": "#%%\n"
    }
   }
  },
  {
   "cell_type": "markdown",
   "source": [
    "We found that the are a lot of NaN value in the Weather\n",
    "Type columns.\n",
    "\n",
    "This follow the documentation of the datest because\n",
    "the Weather Type Value can be true not for all type of weather."
   ],
   "metadata": {
    "collapsed": false
   }
  },
  {
   "cell_type": "code",
   "execution_count": null,
   "outputs": [],
   "source": [
    "weather.dropna(how='all').shape"
   ],
   "metadata": {
    "collapsed": false,
    "pycharm": {
     "name": "#%%\n"
    }
   }
  },
  {
   "cell_type": "markdown",
   "source": [
    "We can assume that there are not errors in the dataset of weather"
   ],
   "metadata": {
    "collapsed": false
   }
  }
 ],
 "metadata": {
  "celltoolbar": "Raw Cell Format",
  "kernelspec": {
   "display_name": "Python 3",
   "language": "python",
   "name": "python3"
  },
  "language_info": {
   "codemirror_mode": {
    "name": "ipython",
    "version": 3
   },
   "file_extension": ".py",
   "mimetype": "text/x-python",
   "name": "python",
   "nbconvert_exporter": "python",
   "pygments_lexer": "ipython3",
   "version": "3.8.3"
  }
 },
 "nbformat": 4,
 "nbformat_minor": 4
}