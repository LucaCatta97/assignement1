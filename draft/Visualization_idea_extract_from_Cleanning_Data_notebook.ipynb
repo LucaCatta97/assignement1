{
 "cells": [
  {
   "cell_type": "markdown",
   "source": [
    "Questo notebook è una bozza contenente ciò che c'era nel notebook di cleanning\n"
   ],
   "metadata": {
    "collapsed": false,
    "pycharm": {
     "name": "#%% md\n"
    }
   }
  },
  {
   "cell_type": "markdown",
   "source": [
    "Distance Travelled"
   ],
   "metadata": {
    "collapsed": false
   }
  },
  {
   "cell_type": "code",
   "execution_count": null,
   "outputs": [],
   "source": [
    "#limito il range nel grafico o direttamente elimino i dati sopra il 99 percentile dal database\n",
    "\n",
    "plt.hist(df.Trip_Miles, bins = 100, range = (0.01, 50))\n",
    "plt.yscale('log')   #scala logaritmica\n",
    "plt.xlabel('Distance Travelled')\n",
    "plt.ylabel('Occurrencies')\n",
    "plt.show()\n",
    "\n",
    "plt.hist(df.Trip_Miles, bins = 100, range = (0.01, 20))\n",
    "plt.xlabel('Distance Travelled')\n",
    "plt.ylabel('Occurrencies')\n",
    "plt.show()"
   ],
   "metadata": {
    "collapsed": false,
    "pycharm": {
     "name": "#%%\n"
    }
   }
  },
  {
   "cell_type": "markdown",
   "source": [
    "#### Investigo perchè ci sono tanti viaggi di 17.5 miglia"
   ],
   "metadata": {
    "collapsed": false
   }
  },
  {
   "cell_type": "code",
   "execution_count": null,
   "outputs": [],
   "source": [
    "#isolo i viaggi tra 16 e 19 miglia\n",
    "trips = df[(df.Trip_Miles > 16) & (df.Trip_Miles < 19)]\n",
    "\n",
    "plt.hist(trips.Trip_Miles, bins = 50, range = (15, 20))\n",
    "plt.xlabel('Distance Travelled')\n",
    "plt.ylabel('Occurrencies')\n",
    "plt.show()"
   ],
   "metadata": {
    "collapsed": false,
    "pycharm": {
     "name": "#%%\n"
    }
   }
  },
  {
   "cell_type": "code",
   "execution_count": null,
   "outputs": [],
   "source": [
    "#visualizzo prezzo dei viaggi tra 16 e 19 miglia\n",
    "plt.hist(trips.Fare, bins = 100, range = (20, 70))\n",
    "plt.xlabel('Fare_subset')\n",
    "plt.ylabel('Occurrencies')\n",
    "plt.show()"
   ],
   "metadata": {
    "collapsed": false,
    "pycharm": {
     "name": "#%%\n"
    }
   }
  },
  {
   "cell_type": "code",
   "execution_count": null,
   "outputs": [],
   "source": [
    "# molti viaggi tra 16 e 19 miglia partono da Community_Area 76 - O'Hare Airport\n",
    "plt.hist(trips.Pickup_Community_Area, bins = 50, range = (0, 78))\n",
    "plt.xlabel('#Community Area')\n",
    "plt.ylabel('Occurrencies')\n",
    "plt.title('Pickup from trips at around 17.5 miles', fontsize = 16)\n",
    "plt.show()"
   ],
   "metadata": {
    "collapsed": false,
    "pycharm": {
     "name": "#%%\n"
    }
   }
  },
  {
   "cell_type": "code",
   "execution_count": null,
   "outputs": [],
   "source": [
    "# molti viaggi tra 16 e 19 miglia vanno a Community_Area 8,24,28,32,76\n",
    "# 8: Near North Side - 24: West Town - 28: Near West Side - 32: Loop\n",
    "plt.hist(trips.Dropoff_Community_Area, bins = 50, range = (0, 100))\n",
    "plt.xlabel('#Community Area')\n",
    "plt.ylabel('Occurrencies')\n",
    "plt.title('Dropoff from trips at around 17.5 miles', fontsize = 16)\n",
    "plt.show()"
   ],
   "metadata": {
    "collapsed": false,
    "pycharm": {
     "name": "#%%\n"
    }
   }
  },
  {
   "cell_type": "code",
   "execution_count": null,
   "outputs": [],
   "source": [
    "#isolo SOLO i viaggi che partono da Community Area 76 (aeroporto)\n",
    "from_76 = df[df.Pickup_Community_Area == 76]\n",
    "#plotto dove va la gente che parte dall'aeroporto\n",
    "plt.hist(from_76.Dropoff_Community_Area, bins = 50, range = (0, 100))\n",
    "plt.xlabel('#Community Area')\n",
    "plt.ylabel('Occurrencies')\n",
    "plt.title('Dropoff <-- from Airport', fontsize = 16)\n",
    "plt.show()"
   ],
   "metadata": {
    "collapsed": false,
    "pycharm": {
     "name": "#%%\n"
    }
   }
  },
  {
   "cell_type": "code",
   "execution_count": null,
   "outputs": [],
   "source": [
    "#isolo SOLO i viaggi che arrivano a Community Area 76 (aeroporto)\n",
    "to_76 = df[df.Dropoff_Community_Area == 76]\n",
    "#plotto da dove parte la gente che arriva all'aeroporto\n",
    "plt.hist(to_76.Pickup_Community_Area, bins = 50, range = (0, 100))\n",
    "plt.xlabel('#Community Area')\n",
    "plt.ylabel('Occurrencies')\n",
    "plt.title('Pickup --> to Airport', fontsize = 16)\n",
    "plt.show()"
   ],
   "metadata": {
    "collapsed": false,
    "pycharm": {
     "name": "#%%\n"
    }
   }
  },
  {
   "cell_type": "markdown",
   "source": [
    "### Pickup/Dropoff delle Community Areas"
   ],
   "metadata": {
    "collapsed": false
   }
  },
  {
   "cell_type": "markdown",
   "source": [
    "#### In istogramma"
   ],
   "metadata": {
    "collapsed": false
   }
  },
  {
   "cell_type": "code",
   "execution_count": null,
   "outputs": [],
   "source": [
    "plt.hist(df.Pickup_Community_Area, bins = 50, range = (0, 100), label='Occurrencies')\n",
    "plt.xlabel('#Community Area')\n",
    "plt.title('General Pickups', fontsize = 16)\n",
    "plt.legend()\n",
    "plt.show()\n",
    "\n",
    "plt.hist(df.Dropoff_Community_Area, bins = 50, range = (0, 100), label='Occurrencies')\n",
    "plt.xlabel('#Community Area')\n",
    "plt.title('General Dropoffs', fontsize = 16)\n",
    "plt.legend()\n",
    "plt.show()"
   ],
   "metadata": {
    "collapsed": false,
    "pycharm": {
     "name": "#%%\n"
    }
   }
  },
  {
   "cell_type": "markdown",
   "source": [
    "#### In coordinate geografiche"
   ],
   "metadata": {
    "collapsed": false
   }
  },
  {
   "cell_type": "code",
   "execution_count": null,
   "outputs": [],
   "source": [
    "#Partenza\n",
    "plt.scatter(df.Pickup_Centroid_Longitude, df.Pickup_Centroid_Latitude, alpha=0.2)\n",
    "plt.xlabel('Longitude')\n",
    "plt.ylabel('Latitude')\n",
    "plt.xticks(rotation=45)\n",
    "plt.figure(figsize=(10, 10), dpi=80, facecolor='w', edgecolor='k')\n",
    "plt.show()\n",
    "#Arrivo\n",
    "plt.scatter(df.Dropoff_Centroid_Longitude, df.Dropoff_Centroid_Latitude, alpha=0.2)\n",
    "plt.xlabel('Longitude')\n",
    "plt.ylabel('Latitude')\n",
    "plt.xticks(rotation=45)\n",
    "plt.show()"
   ],
   "metadata": {
    "collapsed": false,
    "pycharm": {
     "name": "#%%\n"
    }
   }
  },
  {
   "cell_type": "markdown",
   "source": [
    "### Trip Duration"
   ],
   "metadata": {
    "collapsed": false
   }
  },
  {
   "cell_type": "code",
   "execution_count": null,
   "outputs": [],
   "source": [
    "plt.hist(df.Trip_Seconds, bins = 84, range = (1, 6000))\n",
    "#plt.yscale('log')\n",
    "plt.xlabel('Seconds')\n",
    "plt.ylabel('Occurrencies')\n",
    "plt.show()"
   ],
   "metadata": {
    "collapsed": false,
    "pycharm": {
     "name": "#%%\n"
    }
   }
  },
  {
   "cell_type": "markdown",
   "source": [
    "### Fares and Extras"
   ],
   "metadata": {
    "collapsed": false
   }
  },
  {
   "cell_type": "code",
   "execution_count": null,
   "outputs": [],
   "source": [
    "#scala logaritmica\n",
    "\n",
    "plt.hist(df.Fare, bins = 100, range = (0, 120))\n",
    "plt.yscale('log')\n",
    "plt.xlabel('Fare Paid')\n",
    "plt.ylabel('Occurrencies')\n",
    "plt.show()\n",
    "\n",
    "plt.hist(df.Tips, bins = 50, range = (0, 30))\n",
    "plt.yscale('log')\n",
    "plt.xlabel('Tips Given')\n",
    "plt.ylabel('Occurrencies')\n",
    "plt.show()\n",
    "\n",
    "plt.hist(df.Tolls, bins = 50, range = (0, 10))\n",
    "plt.yscale('log')\n",
    "plt.xlabel('Tolls Paid')\n",
    "plt.ylabel('Occurrencies')\n",
    "plt.show()\n",
    "\n",
    "plt.hist(df.Extras, bins = 50, range = (0, 60))\n",
    "plt.yscale('log')\n",
    "plt.xlabel('Extras Paid')\n",
    "plt.ylabel('Occurrencies')\n",
    "plt.show()\n",
    "\n",
    "plt.hist(df.Trip_Total, bins = 50, range = (0, 150))\n",
    "plt.yscale('log')\n",
    "plt.xlabel('Trip Total')\n",
    "plt.ylabel('Occurrencies')\n",
    "plt.show()"
   ],
   "metadata": {
    "collapsed": false,
    "pycharm": {
     "name": "#%%\n"
    }
   }
  },
  {
   "cell_type": "markdown",
   "source": [
    "### Payment Method"
   ],
   "metadata": {
    "collapsed": false
   }
  },
  {
   "cell_type": "code",
   "execution_count": null,
   "outputs": [],
   "source": [
    "df.Payment_Type.value_counts()"
   ],
   "metadata": {
    "collapsed": false,
    "pycharm": {
     "name": "#%%\n"
    }
   }
  },
  {
   "cell_type": "code",
   "execution_count": null,
   "outputs": [],
   "source": [
    "plt.hist(df.Payment_Type, bins = 8, rwidth=0.5)\n",
    "plt.xlabel('Payment Method')\n",
    "plt.ylabel('Occurrencies')\n",
    "plt.title('Payment Method', fontsize = 16)\n",
    "plt.xticks(rotation=45)\n",
    "plt.show()"
   ],
   "metadata": {
    "collapsed": false,
    "pycharm": {
     "name": "#%%\n"
    }
   }
  },
  {
   "cell_type": "code",
   "execution_count": null,
   "outputs": [],
   "source": [
    "plt.pie(df.Payment_Type.value_counts(), shadow=True, autopct='%1.1f%%', startangle=90)\n",
    "plt.title('Payment Method', fontsize=18)\n",
    "#plt.legend()\n",
    "plt.show()"
   ],
   "metadata": {
    "collapsed": false,
    "pycharm": {
     "name": "#%%\n"
    }
   }
  },
  {
   "cell_type": "markdown",
   "source": [
    "### Timestamps (formato americano: mese-gg-anno)"
   ],
   "metadata": {
    "collapsed": false
   }
  },
  {
   "cell_type": "code",
   "execution_count": null,
   "outputs": [],
   "source": [
    "df.Trip_Start_Timestamp = pd.to_datetime(df.Trip_Start_Timestamp)\n",
    "df.Trip_Start_Timestamp"
   ],
   "metadata": {
    "collapsed": false,
    "pycharm": {
     "name": "#%%\n"
    }
   }
  },
  {
   "cell_type": "code",
   "execution_count": null,
   "outputs": [],
   "source": [
    "df.Trip_Start_Timestamp.min()"
   ],
   "metadata": {
    "collapsed": false,
    "pycharm": {
     "name": "#%%\n"
    }
   }
  },
  {
   "cell_type": "code",
   "execution_count": null,
   "outputs": [],
   "source": [
    "df.Trip_Start_Timestamp.max()"
   ],
   "metadata": {
    "collapsed": false,
    "pycharm": {
     "name": "#%%\n"
    }
   }
  },
  {
   "cell_type": "markdown",
   "source": [
    "### Companies"
   ],
   "metadata": {
    "collapsed": false
   }
  },
  {
   "cell_type": "code",
   "execution_count": null,
   "outputs": [],
   "source": [
    "under1000 = df.Company.value_counts() < 100\n",
    "under1000"
   ],
   "metadata": {
    "collapsed": false,
    "pycharm": {
     "name": "#%%\n"
    }
   }
  },
  {
   "cell_type": "code",
   "execution_count": null,
   "outputs": [],
   "source": [
    "df.Company.value_counts().sort_values(ascending=True).plot(kind='barh', figsize=(10,16), fontsize=10)\n",
    "plt.grid(b=None, which='major', axis='x')"
   ],
   "metadata": {
    "collapsed": false,
    "pycharm": {
     "name": "#%%\n"
    }
   }
  },
  {
   "cell_type": "markdown",
   "source": [
    "#### Trovo costo medio per ogni compagnia"
   ],
   "metadata": {
    "collapsed": false
   }
  },
  {
   "cell_type": "code",
   "execution_count": null,
   "outputs": [],
   "source": [
    "#segna in un array tutti i nomi della categoria\n",
    "company_names = df.Company.unique()"
   ],
   "metadata": {
    "collapsed": false,
    "pycharm": {
     "name": "#%%\n"
    }
   }
  },
  {
   "cell_type": "code",
   "execution_count": null,
   "outputs": [],
   "source": [
    "#calcola prezzo per minuto (ppm)\n",
    "dollar_per_min = np.zeros(len(company_names))\n",
    "for i in range(len(company_names)):  #per ogni nome...\n",
    "    subset = df[df.Company == company_names[i]]\n",
    "    num = subset.Trip_Total.mean()\n",
    "    den = ((subset.Trip_Seconds.mean()/60))  #trip duration in minutes]\n",
    "    if(den == 0):\n",
    "        dollar_per_min[i] = 0\n",
    "    else:\n",
    "        dollar_per_min[i] = num/den"
   ],
   "metadata": {
    "collapsed": false,
    "pycharm": {
     "name": "#%%\n"
    }
   }
  },
  {
   "cell_type": "code",
   "execution_count": null,
   "outputs": [],
   "source": [
    "plt.figure(figsize=(30, 8))\n",
    "plt.scatter(company_names, dollar_per_min)\n",
    "plt.ylabel('Dollar per min', fontsize = 18)\n",
    "plt.title('Cost/minute for each company', fontsize = 20)\n",
    "plt.tick_params(axis='x', labelsize=14)\n",
    "plt.tick_params(axis='y', labelsize=14)\n",
    "plt.xticks(rotation=90)\n",
    "plt.show()"
   ],
   "metadata": {
    "collapsed": false,
    "pycharm": {
     "name": "#%%\n"
    }
   }
  },
  {
   "cell_type": "code",
   "execution_count": null,
   "outputs": [],
   "source": [
    "### Provo in modo grezzo a filtrare i dati e a plottarli"
   ],
   "metadata": {
    "collapsed": false,
    "pycharm": {
     "name": "#%%\n"
    }
   }
  },
  {
   "cell_type": "code",
   "execution_count": null,
   "outputs": [],
   "source": [
    "### Provo in modo grezzo a filtrare i dati e a plottarli"
   ],
   "metadata": {
    "collapsed": false,
    "pycharm": {
     "name": "#%%\n"
    }
   }
  },
  {
   "cell_type": "markdown",
   "source": [
    "### Provo in modo grezzo a filtrare i dati e a plottarli"
   ],
   "metadata": {
    "collapsed": false
   }
  },
  {
   "cell_type": "markdown",
   "source": [
    "#### TripMiles vs. Fare"
   ],
   "metadata": {
    "collapsed": false
   }
  },
  {
   "cell_type": "markdown",
   "source": [
    "### Linea sospetta (c)"
   ],
   "metadata": {
    "collapsed": false
   }
  },
  {
   "cell_type": "code",
   "execution_count": null,
   "outputs": [],
   "source": [
    "#Isolo la linea piccolina (non la principale)\n",
    "a = df[(df.Trip_Miles < 6) & (df.Trip_Miles > 0)]\n",
    "b = a[(a.Fare < 300) & (a.Fare > 20)]\n",
    "c = b[((b.Trip_Miles < 1.7) | (b.Fare > 60)) & ((b.Trip_Miles < 1) | (b.Fare > 35))]  #linea \"sospetta\" isolata"
   ],
   "metadata": {
    "collapsed": false,
    "pycharm": {
     "name": "#%%\n"
    }
   }
  },
  {
   "cell_type": "code",
   "execution_count": null,
   "outputs": [],
   "source": [
    "plt.scatter(c.Trip_Miles, c.Fare, alpha = 0.1)\n",
    "plt.xlabel('Trip Miles')\n",
    "plt.ylabel('Fare')\n",
    "plt.show()"
   ],
   "metadata": {
    "collapsed": false,
    "pycharm": {
     "name": "#%%\n"
    }
   }
  },
  {
   "cell_type": "code",
   "execution_count": null,
   "outputs": [],
   "source": [
    "plt.scatter(c.Pickup_Centroid_Longitude, c.Fare, alpha = 0.1)\n",
    "plt.xlabel('Trip Miles')\n",
    "plt.ylabel('Fare')\n",
    "plt.show()"
   ],
   "metadata": {
    "collapsed": false,
    "pycharm": {
     "name": "#%%\n"
    }
   }
  },
  {
   "cell_type": "markdown",
   "source": [
    "#### Duration vs. Fare"
   ],
   "metadata": {
    "collapsed": false
   }
  },
  {
   "cell_type": "code",
   "execution_count": null,
   "outputs": [],
   "source": [
    "#TODO\n",
    "e = df[df.Trip_Seconds < 15000]\n",
    "f = e[e.Trip_Seconds > 0]\n",
    "\n",
    "plt.scatter(f.Trip_Seconds, f.Fare, alpha = 0.1)\n",
    "plt.xlabel('Trip Seconds')\n",
    "plt.ylabel('Fare')\n",
    "plt.show()"
   ],
   "metadata": {
    "collapsed": false,
    "pycharm": {
     "name": "#%%\n"
    }
   }
  },
  {
   "cell_type": "markdown",
   "source": [
    "#### TimeStart vs. Fare"
   ],
   "metadata": {
    "collapsed": false
   }
  },
  {
   "cell_type": "code",
   "execution_count": null,
   "outputs": [],
   "source": [
    "plt.scatter(c.Trip_Start_Timestamp.dt.hour, c.Fare, alpha = 0.1)\n",
    "plt.xlabel('Trip_Start_Timestamp')\n",
    "plt.ylabel('Fare')\n",
    "plt.show()"
   ],
   "metadata": {
    "collapsed": false,
    "pycharm": {
     "name": "#%%\n"
    }
   }
  },
  {
   "cell_type": "code",
   "execution_count": null,
   "outputs": [],
   "source": [
    "subset = np.isnan(df.Fare)  #controlla quanti NaN ci sono\n",
    "unique, counts = np.unique(subset, return_counts=True)\n",
    "unique, counts  #ritorna il numero di occorrenze\n"
   ],
   "metadata": {
    "collapsed": false,
    "pycharm": {
     "name": "#%%\n"
    }
   }
  }
 ],
 "metadata": {
  "kernelspec": {
   "display_name": "Python 3",
   "language": "python",
   "name": "python3"
  },
  "language_info": {
   "codemirror_mode": {
    "name": "ipython",
    "version": 2
   },
   "file_extension": ".py",
   "mimetype": "text/x-python",
   "name": "python",
   "nbconvert_exporter": "python",
   "pygments_lexer": "ipython2",
   "version": "2.7.6"
  }
 },
 "nbformat": 4,
 "nbformat_minor": 0
}